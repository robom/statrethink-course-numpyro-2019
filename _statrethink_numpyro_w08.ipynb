{
 "cells": [
  {
   "cell_type": "markdown",
   "metadata": {
    "id": "1YI5Zm7VDTH5"
   },
   "source": [
    "# Rethinking Statistics course in NumPyro - Week 8"
   ]
  },
  {
   "cell_type": "markdown",
   "metadata": {
    "id": "XQXYsrXJDTID"
   },
   "source": [
    "Lecture 15: Multilevel Models\n",
    "\n",
    "- [Video](https://www.youtube.com/watch?v=AALYPv5xSos)\n",
    "- [Slides](https://speakerdeck.com/rmcelreath/l15-statistical-rethinking-winter-2019)\n",
    "\n",
    "Lecture 16: Multilevel Models 2\n",
    "\n",
    "- [Video](https://www.youtube.com/watch?v=ZG3Oe35R5sY)\n",
    "- [Slides](https://speakerdeck.com/rmcelreath/l16-statistical-rethinking-winter-2019)\n",
    "\n",
    "[Proposed problems](https://github.com/gbosquechacon/statrethinking_winter2019/blob/master/homework/week08.pdf) and [solutions in R](https://github.com/gbosquechacon/statrethinking_winter2019/blob/master/homework/week08_solutions.pdf) for the exercises of the week."
   ]
  },
  {
   "cell_type": "code",
   "execution_count": 1,
   "metadata": {
    "id": "HNiX_SQ3DXpP"
   },
   "outputs": [],
   "source": [
    "import pandas as pd\n",
    "\n",
    "from jax import random\n",
    "from jax.scipy.special import expit as logistic\n",
    "import numpyro\n",
    "from numpyro.infer import NUTS, MCMC, Predictive\n",
    "import numpyro.distributions as dist\n",
    "from numpyro.distributions.transforms import OrderedTransform\n",
    "\n",
    "import seaborn as sns\n",
    "import arviz as az"
   ]
  },
  {
   "cell_type": "code",
   "execution_count": 2,
   "metadata": {
    "colab": {
     "base_uri": "https://localhost:8080/"
    },
    "executionInfo": {
     "elapsed": 5159,
     "status": "ok",
     "timestamp": 1609361667288,
     "user": {
      "displayName": "Andrés Suárez",
      "photoUrl": "https://lh5.googleusercontent.com/-s0kzcIwylzA/AAAAAAAAAAI/AAAAAAAAQXA/v8Sc6WgQy7c/s64/photo.jpg",
      "userId": "06409440331868776168"
     },
     "user_tz": -60
    },
    "id": "jOlA5w2QD9Xg",
    "outputId": "20208c68-8e97-4d89-c918-58fccbe8e55a"
   },
   "outputs": [
    {
     "name": "stdout",
     "output_type": "stream",
     "text": [
      "Last updated: Fri Apr 02 2021\n",
      "\n",
      "Python implementation: CPython\n",
      "Python version       : 3.9.1\n",
      "IPython version      : 7.21.0\n",
      "\n",
      "arviz  : 0.11.2\n",
      "pandas : 1.2.3\n",
      "jax    : 0.2.10\n",
      "numpyro: 0.6.0\n",
      "seaborn: 0.11.1\n",
      "\n",
      "Watermark: 2.2.0\n",
      "\n"
     ]
    }
   ],
   "source": [
    "%load_ext watermark\n",
    "%watermark -n -u -v -iv -w"
   ]
  },
  {
   "cell_type": "code",
   "execution_count": 3,
   "metadata": {},
   "outputs": [],
   "source": [
    "sns.set_style('whitegrid')\n",
    "rng_key = random.PRNGKey(0)"
   ]
  },
  {
   "cell_type": "markdown",
   "metadata": {
    "id": "vJkV1epwDTIF"
   },
   "source": [
    "## Exercise 1"
   ]
  },
  {
   "cell_type": "markdown",
   "metadata": {
    "id": "Y7mqJNA1DTIF"
   },
   "source": [
    "> Revisit the Reed frog survival data, `reedfrogs`, and add the predation and size treatment variables to the varying intercepts model. Consider models with either predictor alone, both predictors, as well as a model including their interaction. What do you infer about the causal influence of these predictor variables? Also focus on the inferred variation across tanks (the σ across tanks). Explain why it changes as it does across models with different predictors included."
   ]
  },
  {
   "cell_type": "markdown",
   "metadata": {
    "id": "e4_mQ2iwDTIH"
   },
   "source": [
    "Let's get the data."
   ]
  },
  {
   "cell_type": "code",
   "execution_count": 4,
   "metadata": {
    "colab": {
     "base_uri": "https://localhost:8080/",
     "height": 142
    },
    "executionInfo": {
     "elapsed": 843,
     "status": "ok",
     "timestamp": 1609361674428,
     "user": {
      "displayName": "Andrés Suárez",
      "photoUrl": "https://lh5.googleusercontent.com/-s0kzcIwylzA/AAAAAAAAAAI/AAAAAAAAQXA/v8Sc6WgQy7c/s64/photo.jpg",
      "userId": "06409440331868776168"
     },
     "user_tz": -60
    },
    "id": "T0JmJamDDTII",
    "outputId": "99b55e95-0e0c-471b-b70f-7c0a20078831"
   },
   "outputs": [
    {
     "data": {
      "text/html": [
       "<div>\n",
       "<style scoped>\n",
       "    .dataframe tbody tr th:only-of-type {\n",
       "        vertical-align: middle;\n",
       "    }\n",
       "\n",
       "    .dataframe tbody tr th {\n",
       "        vertical-align: top;\n",
       "    }\n",
       "\n",
       "    .dataframe thead th {\n",
       "        text-align: right;\n",
       "    }\n",
       "</style>\n",
       "<table border=\"1\" class=\"dataframe\">\n",
       "  <thead>\n",
       "    <tr style=\"text-align: right;\">\n",
       "      <th></th>\n",
       "      <th>density</th>\n",
       "      <th>pred</th>\n",
       "      <th>size</th>\n",
       "      <th>surv</th>\n",
       "      <th>propsurv</th>\n",
       "      <th>tank</th>\n",
       "      <th>volume</th>\n",
       "    </tr>\n",
       "  </thead>\n",
       "  <tbody>\n",
       "    <tr>\n",
       "      <th>0</th>\n",
       "      <td>10</td>\n",
       "      <td>0</td>\n",
       "      <td>big</td>\n",
       "      <td>9</td>\n",
       "      <td>0.9</td>\n",
       "      <td>0</td>\n",
       "      <td>1</td>\n",
       "    </tr>\n",
       "    <tr>\n",
       "      <th>1</th>\n",
       "      <td>10</td>\n",
       "      <td>0</td>\n",
       "      <td>big</td>\n",
       "      <td>10</td>\n",
       "      <td>1.0</td>\n",
       "      <td>1</td>\n",
       "      <td>1</td>\n",
       "    </tr>\n",
       "    <tr>\n",
       "      <th>2</th>\n",
       "      <td>10</td>\n",
       "      <td>0</td>\n",
       "      <td>big</td>\n",
       "      <td>7</td>\n",
       "      <td>0.7</td>\n",
       "      <td>2</td>\n",
       "      <td>1</td>\n",
       "    </tr>\n",
       "  </tbody>\n",
       "</table>\n",
       "</div>"
      ],
      "text/plain": [
       "   density  pred size  surv  propsurv  tank  volume\n",
       "0       10     0  big     9       0.9     0       1\n",
       "1       10     0  big    10       1.0     1       1\n",
       "2       10     0  big     7       0.7     2       1"
      ]
     },
     "execution_count": 4,
     "metadata": {},
     "output_type": "execute_result"
    }
   ],
   "source": [
    "d = pd.read_csv('./dat/reedfrogs.csv', header=0, sep=';')\n",
    "d['tank'] = d.index\n",
    "d['pred'] = pd.factorize(d['pred'])[0]\n",
    "d['volume'] = d['size'].replace({'small':0, 'big':1})\n",
    "d.head(3)"
   ]
  },
  {
   "cell_type": "markdown",
   "metadata": {
    "id": "4XMOL0jMDTIK"
   },
   "source": [
    "Now to define a series of models. The first is just the varying intercepts model from the text."
   ]
  },
  {
   "cell_type": "markdown",
   "metadata": {
    "id": "Drp3P2sPJR47"
   },
   "source": [
    "Model 1:"
   ]
  },
  {
   "cell_type": "code",
   "execution_count": 5,
   "metadata": {
    "id": "m0r8LeVQJCdE"
   },
   "outputs": [],
   "source": [
    "def model(tank, density, surv=None):\n",
    "    # priors\n",
    "    a_bar = numpyro.sample('a_bar', dist.Normal(0, 1.5))\n",
    "    sigma = numpyro.sample('sigma', dist.Exponential(1))\n",
    "    a = numpyro.sample('a', dist.Normal(a_bar,sigma), sample_shape=tank.shape)\n",
    "    # likelihood\n",
    "    logits = a[tank]\n",
    "    numpyro.sample('surv_hat', dist.Binomial(density, logits=logits), obs=surv)"
   ]
  },
  {
   "cell_type": "code",
   "execution_count": 6,
   "metadata": {
    "colab": {
     "base_uri": "https://localhost:8080/"
    },
    "executionInfo": {
     "elapsed": 15586,
     "status": "ok",
     "timestamp": 1609364410322,
     "user": {
      "displayName": "Andrés Suárez",
      "photoUrl": "https://lh5.googleusercontent.com/-s0kzcIwylzA/AAAAAAAAAAI/AAAAAAAAQXA/v8Sc6WgQy7c/s64/photo.jpg",
      "userId": "06409440331868776168"
     },
     "user_tz": -60
    },
    "id": "gIVH800SLAEP",
    "outputId": "bb6262b8-cc19-474a-a417-8e5568db0dd7"
   },
   "outputs": [
    {
     "name": "stderr",
     "output_type": "stream",
     "text": [
      "sample: 100%|██████████| 1000/1000 [00:06<00:00, 163.70it/s, 7 steps of size 4.66e-01. acc. prob=0.87]\n",
      "sample: 100%|██████████| 1000/1000 [00:01<00:00, 523.87it/s, 7 steps of size 4.55e-01. acc. prob=0.87]\n",
      "sample: 100%|██████████| 1000/1000 [00:01<00:00, 526.52it/s, 7 steps of size 4.68e-01. acc. prob=0.87]\n",
      "sample: 100%|██████████| 1000/1000 [00:02<00:00, 492.06it/s, 7 steps of size 4.53e-01. acc. prob=0.88]\n"
     ]
    }
   ],
   "source": [
    "kernel = NUTS(model)\n",
    "mcmc = MCMC(kernel, num_warmup=500, num_samples=500, num_chains=4, chain_method='sequential')\n",
    "dat = {k:v.to_numpy() for k,v in d[['tank', 'density', 'surv']].items()}\n",
    "mcmc.run(rng_key, **dat)"
   ]
  },
  {
   "cell_type": "code",
   "execution_count": 7,
   "metadata": {
    "id": "d7fhmoWIfRLQ"
   },
   "outputs": [],
   "source": [
    "samples_11 = az.from_numpyro(mcmc)"
   ]
  },
  {
   "cell_type": "markdown",
   "metadata": {
    "id": "bxoOaklCeFIG"
   },
   "source": [
    "Model 2 (pred):"
   ]
  },
  {
   "cell_type": "code",
   "execution_count": 8,
   "metadata": {
    "id": "9dgzr_JceHeL"
   },
   "outputs": [],
   "source": [
    "def model(tank, density, pred, surv=None):\n",
    "    # priors\n",
    "    a_bar = numpyro.sample('a_bar', dist.Normal(0, 1.5))\n",
    "    sigma = numpyro.sample('sigma', dist.Exponential(1))\n",
    "    a = numpyro.sample('a', dist.Normal(a_bar,sigma), sample_shape=tank.shape)\n",
    "    bp = numpyro.sample('bp', dist.Normal(-0.5,1))\n",
    "    # likelihood\n",
    "    logits = a[tank] + bp*pred\n",
    "    numpyro.sample('surv_hat', dist.Binomial(density, logits=logits), obs=surv)"
   ]
  },
  {
   "cell_type": "code",
   "execution_count": 9,
   "metadata": {
    "colab": {
     "base_uri": "https://localhost:8080/"
    },
    "executionInfo": {
     "elapsed": 31572,
     "status": "ok",
     "timestamp": 1609364427006,
     "user": {
      "displayName": "Andrés Suárez",
      "photoUrl": "https://lh5.googleusercontent.com/-s0kzcIwylzA/AAAAAAAAAAI/AAAAAAAAQXA/v8Sc6WgQy7c/s64/photo.jpg",
      "userId": "06409440331868776168"
     },
     "user_tz": -60
    },
    "id": "j1hkuGEpexVL",
    "outputId": "c472fb8a-3e10-4b49-b947-9d558711c7f1"
   },
   "outputs": [
    {
     "name": "stderr",
     "output_type": "stream",
     "text": [
      "sample: 100%|██████████| 1000/1000 [00:06<00:00, 150.98it/s, 15 steps of size 3.38e-01. acc. prob=0.88]\n",
      "sample: 100%|██████████| 1000/1000 [00:01<00:00, 508.80it/s, 15 steps of size 2.98e-01. acc. prob=0.90]\n",
      "sample: 100%|██████████| 1000/1000 [00:02<00:00, 476.86it/s, 15 steps of size 3.17e-01. acc. prob=0.89]\n",
      "sample: 100%|██████████| 1000/1000 [00:01<00:00, 502.68it/s, 15 steps of size 3.02e-01. acc. prob=0.90]\n"
     ]
    }
   ],
   "source": [
    "kernel = NUTS(model)\n",
    "mcmc = MCMC(kernel, num_warmup=500, num_samples=500, num_chains=4, chain_method='sequential')\n",
    "dat = {k:v.to_numpy() for k,v in d[['tank', 'density', 'pred', 'surv']].items()}\n",
    "mcmc.run(rng_key, **dat)"
   ]
  },
  {
   "cell_type": "code",
   "execution_count": 10,
   "metadata": {
    "id": "x8yH16vZfTsH"
   },
   "outputs": [],
   "source": [
    "samples_12 = az.from_numpyro(mcmc)"
   ]
  },
  {
   "cell_type": "markdown",
   "metadata": {
    "id": "YvEqo4ase-dU"
   },
   "source": [
    "Model 3 (size):"
   ]
  },
  {
   "cell_type": "code",
   "execution_count": 11,
   "metadata": {
    "id": "hVc2skh9fAyL"
   },
   "outputs": [],
   "source": [
    "def model(tank, density, volume, surv=None):\n",
    "    # priors\n",
    "    a_bar = numpyro.sample('a_bar', dist.Normal(0, 1.5))\n",
    "    sigma = numpyro.sample('sigma', dist.Exponential(1))\n",
    "    a = numpyro.sample('a', dist.Normal(a_bar,sigma), sample_shape=tank.shape)\n",
    "    s = numpyro.sample('s', dist.Normal(0,0.5), sample_shape=d.volume.unique().shape)\n",
    "    # likelihood\n",
    "    logits = a[tank] + s[volume]\n",
    "    numpyro.sample('surv_hat', dist.Binomial(density, logits=logits), obs=surv)"
   ]
  },
  {
   "cell_type": "code",
   "execution_count": 12,
   "metadata": {
    "colab": {
     "base_uri": "https://localhost:8080/"
    },
    "executionInfo": {
     "elapsed": 47599,
     "status": "ok",
     "timestamp": 1609364443698,
     "user": {
      "displayName": "Andrés Suárez",
      "photoUrl": "https://lh5.googleusercontent.com/-s0kzcIwylzA/AAAAAAAAAAI/AAAAAAAAQXA/v8Sc6WgQy7c/s64/photo.jpg",
      "userId": "06409440331868776168"
     },
     "user_tz": -60
    },
    "id": "XggMJ9AGfA6v",
    "outputId": "96ea18d6-fdc3-4034-9a09-177591fcd8b5"
   },
   "outputs": [
    {
     "name": "stderr",
     "output_type": "stream",
     "text": [
      "sample: 100%|██████████| 1000/1000 [00:06<00:00, 151.05it/s, 15 steps of size 2.46e-01. acc. prob=0.89]\n",
      "sample: 100%|██████████| 1000/1000 [00:01<00:00, 508.20it/s, 15 steps of size 2.28e-01. acc. prob=0.91]\n",
      "sample: 100%|██████████| 1000/1000 [00:02<00:00, 489.07it/s, 15 steps of size 2.21e-01. acc. prob=0.91]\n",
      "sample: 100%|██████████| 1000/1000 [00:01<00:00, 502.49it/s, 15 steps of size 2.36e-01. acc. prob=0.91]\n"
     ]
    }
   ],
   "source": [
    "kernel = NUTS(model)\n",
    "mcmc = MCMC(kernel, num_warmup=500, num_samples=500, num_chains=4, chain_method='sequential')\n",
    "dat = {k:v.to_numpy() for k,v in d[['tank', 'density', 'volume', 'surv']].items()}\n",
    "mcmc.run(rng_key, **dat)"
   ]
  },
  {
   "cell_type": "code",
   "execution_count": 13,
   "metadata": {
    "id": "RqrL2ZQJqURk"
   },
   "outputs": [],
   "source": [
    "samples_13 = az.from_numpyro(mcmc)"
   ]
  },
  {
   "cell_type": "markdown",
   "metadata": {
    "id": "sqoG1za3DTIO"
   },
   "source": [
    "Model 4 (pred + size):"
   ]
  },
  {
   "cell_type": "code",
   "execution_count": 14,
   "metadata": {
    "id": "2oDnyX6hqaZb"
   },
   "outputs": [],
   "source": [
    "def model(tank, density, pred, volume, surv=None):\n",
    "    # priors\n",
    "    a_bar = numpyro.sample('a_bar', dist.Normal(0, 1.5))\n",
    "    sigma = numpyro.sample('sigma', dist.Exponential(1))\n",
    "    a = numpyro.sample('a', dist.Normal(a_bar,sigma), sample_shape=tank.shape)\n",
    "    bp = numpyro.sample('bp', dist.Normal(-0.5,1))\n",
    "    s = numpyro.sample('s', dist.Normal(0,0.5), sample_shape=d.volume.unique().shape)\n",
    "    # likelihood\n",
    "    logits = a[tank] + bp*pred + s[volume]\n",
    "    numpyro.sample('surv_hat', dist.Binomial(density, logits=logits), obs=surv)"
   ]
  },
  {
   "cell_type": "code",
   "execution_count": 15,
   "metadata": {
    "colab": {
     "base_uri": "https://localhost:8080/"
    },
    "executionInfo": {
     "elapsed": 64999,
     "status": "ok",
     "timestamp": 1609364462062,
     "user": {
      "displayName": "Andrés Suárez",
      "photoUrl": "https://lh5.googleusercontent.com/-s0kzcIwylzA/AAAAAAAAAAI/AAAAAAAAQXA/v8Sc6WgQy7c/s64/photo.jpg",
      "userId": "06409440331868776168"
     },
     "user_tz": -60
    },
    "id": "YlICg_fIqtBF",
    "outputId": "3a36db76-87e3-47eb-a60d-9670adc4370a"
   },
   "outputs": [
    {
     "name": "stderr",
     "output_type": "stream",
     "text": [
      "sample: 100%|██████████| 1000/1000 [00:07<00:00, 138.78it/s, 15 steps of size 1.88e-01. acc. prob=0.92]\n",
      "sample: 100%|██████████| 1000/1000 [00:02<00:00, 339.34it/s, 15 steps of size 2.36e-01. acc. prob=0.87]\n",
      "sample: 100%|██████████| 1000/1000 [00:02<00:00, 449.63it/s, 15 steps of size 2.25e-01. acc. prob=0.89]\n",
      "sample: 100%|██████████| 1000/1000 [00:02<00:00, 498.12it/s, 15 steps of size 1.79e-01. acc. prob=0.93]\n"
     ]
    }
   ],
   "source": [
    "kernel = NUTS(model)\n",
    "mcmc = MCMC(kernel, num_warmup=500, num_samples=500, num_chains=4, chain_method='sequential')\n",
    "dat = {k:v.to_numpy() for k,v in d[['tank', 'density', 'pred', 'volume', 'surv']].items()}\n",
    "mcmc.run(rng_key, **dat)"
   ]
  },
  {
   "cell_type": "code",
   "execution_count": 16,
   "metadata": {
    "id": "X7N47Ammq4gS"
   },
   "outputs": [],
   "source": [
    "samples_14 = az.from_numpyro(mcmc)"
   ]
  },
  {
   "cell_type": "markdown",
   "metadata": {
    "id": "QUF74m4UDTIP"
   },
   "source": [
    "Model 5 (pred + size + interaction):"
   ]
  },
  {
   "cell_type": "code",
   "execution_count": 17,
   "metadata": {
    "id": "unjwwWC-NHWX"
   },
   "outputs": [],
   "source": [
    "def model(tank, density, pred, volume, surv=None):\n",
    "    # priors\n",
    "    a_bar = numpyro.sample('a_bar', dist.Normal(0, 1.5))\n",
    "    sigma = numpyro.sample('sigma', dist.Exponential(1))\n",
    "    a = numpyro.sample('a', dist.Normal(a_bar,sigma), sample_shape=tank.shape)\n",
    "    bp = numpyro.sample('bp', dist.Normal(-0.5,1), sample_shape=d.volume.unique().shape)\n",
    "    s = numpyro.sample('s', dist.Normal(0,0.5), sample_shape=d.volume.unique().shape)\n",
    "    # likelihood\n",
    "    logits = a[tank] + bp[volume]*pred + s[volume]\n",
    "    numpyro.sample('surv_hat', dist.Binomial(density, logits=logits), obs=surv)"
   ]
  },
  {
   "cell_type": "code",
   "execution_count": 18,
   "metadata": {
    "colab": {
     "base_uri": "https://localhost:8080/"
    },
    "executionInfo": {
     "elapsed": 81098,
     "status": "ok",
     "timestamp": 1609364480566,
     "user": {
      "displayName": "Andrés Suárez",
      "photoUrl": "https://lh5.googleusercontent.com/-s0kzcIwylzA/AAAAAAAAAAI/AAAAAAAAQXA/v8Sc6WgQy7c/s64/photo.jpg",
      "userId": "06409440331868776168"
     },
     "user_tz": -60
    },
    "id": "rv_mkoHFOd8O",
    "outputId": "3284772a-740b-4de3-d86d-d0e127550b2d"
   },
   "outputs": [
    {
     "name": "stderr",
     "output_type": "stream",
     "text": [
      "sample: 100%|██████████| 1000/1000 [00:07<00:00, 140.05it/s, 15 steps of size 1.48e-01. acc. prob=0.93]\n",
      "sample: 100%|██████████| 1000/1000 [00:02<00:00, 489.48it/s, 15 steps of size 2.01e-01. acc. prob=0.90]\n",
      "sample: 100%|██████████| 1000/1000 [00:02<00:00, 445.81it/s, 15 steps of size 1.74e-01. acc. prob=0.91]\n",
      "sample: 100%|██████████| 1000/1000 [00:02<00:00, 482.28it/s, 15 steps of size 2.07e-01. acc. prob=0.90]\n"
     ]
    }
   ],
   "source": [
    "kernel = NUTS(model)\n",
    "mcmc = MCMC(kernel, num_warmup=500, num_samples=500, num_chains=4, chain_method='sequential')\n",
    "dat = {k:v.to_numpy() for k,v in d[['tank', 'density', 'pred', 'volume', 'surv']].items()}\n",
    "mcmc.run(rng_key, **dat)"
   ]
  },
  {
   "cell_type": "code",
   "execution_count": 19,
   "metadata": {
    "id": "EzBc3XmEOfzB"
   },
   "outputs": [],
   "source": [
    "samples_15 = az.from_numpyro(mcmc)"
   ]
  },
  {
   "cell_type": "markdown",
   "metadata": {
    "id": "XoewvGYeDTIP"
   },
   "source": [
    "I coded the interaction model (`samples_5`) using a non-centered parameterization. The interaction itself is done by creating a `bp` parameter for each size value. In this way, the effect of `pred` depends upon `volume`. First let's consider the WAIC scores:"
   ]
  },
  {
   "cell_type": "code",
   "execution_count": 20,
   "metadata": {},
   "outputs": [
    {
     "name": "stderr",
     "output_type": "stream",
     "text": [
      "/Library/Frameworks/Python.framework/Versions/3.9/lib/python3.9/site-packages/arviz/stats/stats.py:145: UserWarning: The default method used to estimate the weights for each model,has changed from BB-pseudo-BMA to stacking\n",
      "  warnings.warn(\n",
      "/Library/Frameworks/Python.framework/Versions/3.9/lib/python3.9/site-packages/arviz/stats/stats.py:655: UserWarning: Estimated shape parameter of Pareto distribution is greater than 0.7 for one or more samples. You should consider using a more robust model, this is because importance sampling is less likely to work well if the marginal posterior and LOO posterior are very different. This is more likely to happen with a non-robust model and highly influential observations.\n",
      "  warnings.warn(\n",
      "/Library/Frameworks/Python.framework/Versions/3.9/lib/python3.9/site-packages/arviz/stats/stats.py:655: UserWarning: Estimated shape parameter of Pareto distribution is greater than 0.7 for one or more samples. You should consider using a more robust model, this is because importance sampling is less likely to work well if the marginal posterior and LOO posterior are very different. This is more likely to happen with a non-robust model and highly influential observations.\n",
      "  warnings.warn(\n",
      "/Library/Frameworks/Python.framework/Versions/3.9/lib/python3.9/site-packages/arviz/stats/stats.py:655: UserWarning: Estimated shape parameter of Pareto distribution is greater than 0.7 for one or more samples. You should consider using a more robust model, this is because importance sampling is less likely to work well if the marginal posterior and LOO posterior are very different. This is more likely to happen with a non-robust model and highly influential observations.\n",
      "  warnings.warn(\n",
      "/Library/Frameworks/Python.framework/Versions/3.9/lib/python3.9/site-packages/arviz/stats/stats.py:655: UserWarning: Estimated shape parameter of Pareto distribution is greater than 0.7 for one or more samples. You should consider using a more robust model, this is because importance sampling is less likely to work well if the marginal posterior and LOO posterior are very different. This is more likely to happen with a non-robust model and highly influential observations.\n",
      "  warnings.warn(\n",
      "/Library/Frameworks/Python.framework/Versions/3.9/lib/python3.9/site-packages/arviz/stats/stats.py:655: UserWarning: Estimated shape parameter of Pareto distribution is greater than 0.7 for one or more samples. You should consider using a more robust model, this is because importance sampling is less likely to work well if the marginal posterior and LOO posterior are very different. This is more likely to happen with a non-robust model and highly influential observations.\n",
      "  warnings.warn(\n"
     ]
    },
    {
     "data": {
      "text/html": [
       "<div>\n",
       "<style scoped>\n",
       "    .dataframe tbody tr th:only-of-type {\n",
       "        vertical-align: middle;\n",
       "    }\n",
       "\n",
       "    .dataframe tbody tr th {\n",
       "        vertical-align: top;\n",
       "    }\n",
       "\n",
       "    .dataframe thead th {\n",
       "        text-align: right;\n",
       "    }\n",
       "</style>\n",
       "<table border=\"1\" class=\"dataframe\">\n",
       "  <thead>\n",
       "    <tr style=\"text-align: right;\">\n",
       "      <th></th>\n",
       "      <th>rank</th>\n",
       "      <th>loo</th>\n",
       "      <th>p_loo</th>\n",
       "      <th>d_loo</th>\n",
       "      <th>weight</th>\n",
       "      <th>se</th>\n",
       "      <th>dse</th>\n",
       "      <th>warning</th>\n",
       "      <th>loo_scale</th>\n",
       "    </tr>\n",
       "  </thead>\n",
       "  <tbody>\n",
       "    <tr>\n",
       "      <th>model_12</th>\n",
       "      <td>0</td>\n",
       "      <td>208.715087</td>\n",
       "      <td>24.077409</td>\n",
       "      <td>0.000000</td>\n",
       "      <td>6.175129e-01</td>\n",
       "      <td>10.328203</td>\n",
       "      <td>0.000000</td>\n",
       "      <td>True</td>\n",
       "      <td>deviance</td>\n",
       "    </tr>\n",
       "    <tr>\n",
       "      <th>model_15</th>\n",
       "      <td>1</td>\n",
       "      <td>210.272722</td>\n",
       "      <td>24.416782</td>\n",
       "      <td>1.557635</td>\n",
       "      <td>3.259616e-01</td>\n",
       "      <td>10.517428</td>\n",
       "      <td>4.553388</td>\n",
       "      <td>True</td>\n",
       "      <td>deviance</td>\n",
       "    </tr>\n",
       "    <tr>\n",
       "      <th>model_14</th>\n",
       "      <td>2</td>\n",
       "      <td>211.286669</td>\n",
       "      <td>24.792323</td>\n",
       "      <td>2.571582</td>\n",
       "      <td>2.094098e-15</td>\n",
       "      <td>10.425331</td>\n",
       "      <td>2.216642</td>\n",
       "      <td>True</td>\n",
       "      <td>deviance</td>\n",
       "    </tr>\n",
       "    <tr>\n",
       "      <th>model_13</th>\n",
       "      <td>3</td>\n",
       "      <td>219.070288</td>\n",
       "      <td>30.446760</td>\n",
       "      <td>10.355201</td>\n",
       "      <td>1.221035e-15</td>\n",
       "      <td>7.993552</td>\n",
       "      <td>6.939584</td>\n",
       "      <td>True</td>\n",
       "      <td>deviance</td>\n",
       "    </tr>\n",
       "    <tr>\n",
       "      <th>model_11</th>\n",
       "      <td>4</td>\n",
       "      <td>220.604288</td>\n",
       "      <td>31.012833</td>\n",
       "      <td>11.889201</td>\n",
       "      <td>5.652543e-02</td>\n",
       "      <td>8.633994</td>\n",
       "      <td>7.292377</td>\n",
       "      <td>True</td>\n",
       "      <td>deviance</td>\n",
       "    </tr>\n",
       "  </tbody>\n",
       "</table>\n",
       "</div>"
      ],
      "text/plain": [
       "          rank         loo      p_loo      d_loo        weight         se  \\\n",
       "model_12     0  208.715087  24.077409   0.000000  6.175129e-01  10.328203   \n",
       "model_15     1  210.272722  24.416782   1.557635  3.259616e-01  10.517428   \n",
       "model_14     2  211.286669  24.792323   2.571582  2.094098e-15  10.425331   \n",
       "model_13     3  219.070288  30.446760  10.355201  1.221035e-15   7.993552   \n",
       "model_11     4  220.604288  31.012833  11.889201  5.652543e-02   8.633994   \n",
       "\n",
       "               dse  warning loo_scale  \n",
       "model_12  0.000000     True  deviance  \n",
       "model_15  4.553388     True  deviance  \n",
       "model_14  2.216642     True  deviance  \n",
       "model_13  6.939584     True  deviance  \n",
       "model_11  7.292377     True  deviance  "
      ]
     },
     "execution_count": 20,
     "metadata": {},
     "output_type": "execute_result"
    }
   ],
   "source": [
    "az.compare({'model_11': samples_11, \n",
    "            'model_12': samples_12, \n",
    "            'model_13': samples_13, \n",
    "            'model_14': samples_14,\n",
    "            'model_15': samples_15}\n",
    "           , scale='deviance')"
   ]
  },
  {
   "cell_type": "markdown",
   "metadata": {
    "id": "Vg-9gtDZDTIQ"
   },
   "source": [
    "These models are really very similar in expected out-of-sample accuracy. The tank variation is huge. But take a look at the posterior distributions for predation and size. You'll see that predation does seem to matter, as you'd expect. Size matters a lot less. So while predation doesn't explain much of the total variation, there is plenty of evidence that it is a real effect. Remember: We don't select a model using WAIC\n",
    "(or LOO). A predictor can make little difference in total accuracy but still be a real causal effect.\n",
    "\n",
    "Let's look at all the sigma posterior distributions:"
   ]
  },
  {
   "cell_type": "code",
   "execution_count": 21,
   "metadata": {
    "colab": {
     "base_uri": "https://localhost:8080/",
     "height": 241
    },
    "executionInfo": {
     "elapsed": 1359,
     "status": "ok",
     "timestamp": 1609365078554,
     "user": {
      "displayName": "Andrés Suárez",
      "photoUrl": "https://lh5.googleusercontent.com/-s0kzcIwylzA/AAAAAAAAAAI/AAAAAAAAQXA/v8Sc6WgQy7c/s64/photo.jpg",
      "userId": "06409440331868776168"
     },
     "user_tz": -60
    },
    "id": "PN0RrIp0lxWW",
    "outputId": "f6db69b3-56ee-4d2d-c492-1fa35a4548db"
   },
   "outputs": [
    {
     "data": {
      "image/png": "[encoded data removed]",
      "text/plain": [
       "<Figure size 648x216 with 1 Axes>"
      ]
     },
     "metadata": {},
     "output_type": "display_data"
    }
   ],
   "source": [
    "az.plot_forest({\n",
    "    'model_11': samples_11.posterior['sigma'],\n",
    "    'model_12': samples_12.posterior['sigma'],\n",
    "    'model_13': samples_13.posterior['sigma'],\n",
    "    'model_14': samples_14.posterior['sigma'],\n",
    "    'model_15': samples_15.posterior['sigma']\n",
    "}, combined=True, figsize=(9, 3));"
   ]
  },
  {
   "cell_type": "markdown",
   "metadata": {
    "id": "lG7JJ--0DTIR"
   },
   "source": [
    "The two models that omit predation, `model_11` and `model_13`, have larger values of `sigma`. This is because predation explains some of the variation among tanks. So when you add it to the model, the variation in the tank intercepts gets smaller."
   ]
  },
  {
   "cell_type": "markdown",
   "metadata": {
    "id": "aMrsnV4WDTIR"
   },
   "source": [
    "## Exercise 2"
   ]
  },
  {
   "cell_type": "markdown",
   "metadata": {
    "id": "EvFqYEslDTIS"
   },
   "source": [
    "> In 1980, a typical Bengali woman could have 5 or more children in her lifetime. By the year 2000, a typical Bengali woman had only 2 or 3. You're going to look at a historical set of data, when contraception was widely available but many families chose not to use it. These data reside in data `bangladesh` and come from the 1988 Bangladesh Fertility Survey. Each row is one of 1934 women. There are six variables, but you can focus on two of them for this practice problem:\n",
    "\n",
    "> 1. `district`: ID number of administrative district each woman resided in\n",
    "2. `use.contraception`: An indicator (0/1) of whether the woman was using contraception"
   ]
  },
  {
   "cell_type": "code",
   "execution_count": 22,
   "metadata": {
    "colab": {
     "base_uri": "https://localhost:8080/",
     "height": 204
    },
    "executionInfo": {
     "elapsed": 735,
     "status": "ok",
     "timestamp": 1609493492049,
     "user": {
      "displayName": "Andrés Suárez",
      "photoUrl": "https://lh5.googleusercontent.com/-s0kzcIwylzA/AAAAAAAAAAI/AAAAAAAAQXA/v8Sc6WgQy7c/s64/photo.jpg",
      "userId": "06409440331868776168"
     },
     "user_tz": -60
    },
    "id": "2gJ9qonZDTIS",
    "outputId": "6b331fc3-424e-4e7c-a0fb-685d5d04fc55"
   },
   "outputs": [
    {
     "data": {
      "text/html": [
       "<div>\n",
       "<style scoped>\n",
       "    .dataframe tbody tr th:only-of-type {\n",
       "        vertical-align: middle;\n",
       "    }\n",
       "\n",
       "    .dataframe tbody tr th {\n",
       "        vertical-align: top;\n",
       "    }\n",
       "\n",
       "    .dataframe thead th {\n",
       "        text-align: right;\n",
       "    }\n",
       "</style>\n",
       "<table border=\"1\" class=\"dataframe\">\n",
       "  <thead>\n",
       "    <tr style=\"text-align: right;\">\n",
       "      <th></th>\n",
       "      <th>woman</th>\n",
       "      <th>district</th>\n",
       "      <th>use.contraception</th>\n",
       "      <th>living.children</th>\n",
       "      <th>age.centered</th>\n",
       "      <th>urban</th>\n",
       "      <th>did</th>\n",
       "      <th>conc</th>\n",
       "    </tr>\n",
       "  </thead>\n",
       "  <tbody>\n",
       "    <tr>\n",
       "      <th>0</th>\n",
       "      <td>1</td>\n",
       "      <td>1</td>\n",
       "      <td>0</td>\n",
       "      <td>4</td>\n",
       "      <td>18.4400</td>\n",
       "      <td>1</td>\n",
       "      <td>0</td>\n",
       "      <td>0</td>\n",
       "    </tr>\n",
       "    <tr>\n",
       "      <th>1</th>\n",
       "      <td>2</td>\n",
       "      <td>1</td>\n",
       "      <td>0</td>\n",
       "      <td>1</td>\n",
       "      <td>-5.5599</td>\n",
       "      <td>1</td>\n",
       "      <td>0</td>\n",
       "      <td>0</td>\n",
       "    </tr>\n",
       "    <tr>\n",
       "      <th>2</th>\n",
       "      <td>3</td>\n",
       "      <td>1</td>\n",
       "      <td>0</td>\n",
       "      <td>3</td>\n",
       "      <td>1.4400</td>\n",
       "      <td>1</td>\n",
       "      <td>0</td>\n",
       "      <td>0</td>\n",
       "    </tr>\n",
       "    <tr>\n",
       "      <th>3</th>\n",
       "      <td>4</td>\n",
       "      <td>1</td>\n",
       "      <td>0</td>\n",
       "      <td>4</td>\n",
       "      <td>8.4400</td>\n",
       "      <td>1</td>\n",
       "      <td>0</td>\n",
       "      <td>0</td>\n",
       "    </tr>\n",
       "    <tr>\n",
       "      <th>4</th>\n",
       "      <td>5</td>\n",
       "      <td>1</td>\n",
       "      <td>0</td>\n",
       "      <td>1</td>\n",
       "      <td>-13.5590</td>\n",
       "      <td>1</td>\n",
       "      <td>0</td>\n",
       "      <td>0</td>\n",
       "    </tr>\n",
       "  </tbody>\n",
       "</table>\n",
       "</div>"
      ],
      "text/plain": [
       "   woman  district  use.contraception  living.children  age.centered  urban  \\\n",
       "0      1         1                  0                4       18.4400      1   \n",
       "1      2         1                  0                1       -5.5599      1   \n",
       "2      3         1                  0                3        1.4400      1   \n",
       "3      4         1                  0                4        8.4400      1   \n",
       "4      5         1                  0                1      -13.5590      1   \n",
       "\n",
       "   did  conc  \n",
       "0    0     0  \n",
       "1    0     0  \n",
       "2    0     0  \n",
       "3    0     0  \n",
       "4    0     0  "
      ]
     },
     "execution_count": 22,
     "metadata": {},
     "output_type": "execute_result"
    }
   ],
   "source": [
    "d = pd.read_csv('./dat/bangladesh.csv', header=0, sep=';')\n",
    "d['did'] = pd.factorize(d['district'])[0]\n",
    "d['conc'] = d['use.contraception']\n",
    "d.head()"
   ]
  },
  {
   "cell_type": "markdown",
   "metadata": {
    "id": "OeV5mwHCDTIT"
   },
   "source": [
    "Now for the ordinary fixed effect model:"
   ]
  },
  {
   "cell_type": "code",
   "execution_count": 23,
   "metadata": {
    "colab": {
     "base_uri": "https://localhost:8080/"
    },
    "executionInfo": {
     "elapsed": 16015,
     "status": "ok",
     "timestamp": 1609493507992,
     "user": {
      "displayName": "Andrés Suárez",
      "photoUrl": "https://lh5.googleusercontent.com/-s0kzcIwylzA/AAAAAAAAAAI/AAAAAAAAQXA/v8Sc6WgQy7c/s64/photo.jpg",
      "userId": "06409440331868776168"
     },
     "user_tz": -60
    },
    "id": "R7hkawCELhdg",
    "outputId": "6b48e36b-011d-4070-9fab-eec6f049e4b4"
   },
   "outputs": [
    {
     "name": "stderr",
     "output_type": "stream",
     "text": [
      "sample: 100%|██████████| 1000/1000 [00:06<00:00, 164.12it/s, 7 steps of size 5.45e-01. acc. prob=0.82]\n",
      "sample: 100%|██████████| 1000/1000 [00:02<00:00, 492.30it/s, 7 steps of size 5.00e-01. acc. prob=0.85]\n",
      "sample: 100%|██████████| 1000/1000 [00:02<00:00, 498.17it/s, 7 steps of size 4.86e-01. acc. prob=0.86]\n",
      "sample: 100%|██████████| 1000/1000 [00:01<00:00, 500.56it/s, 7 steps of size 5.51e-01. acc. prob=0.82]\n"
     ]
    }
   ],
   "source": [
    "def model(did, conc=None):\n",
    "    # priors\n",
    "    a =  numpyro.sample('a', dist.Normal(0, 1.5), sample_shape=d.did.unique().shape)\n",
    "    # likelihood\n",
    "    logits = a[did]\n",
    "    numpyro.sample('conc_hat', dist.Bernoulli(logits=logits), obs=conc)\n",
    "\n",
    "kernel = NUTS(model)\n",
    "mcmc = MCMC(kernel, num_warmup=500, num_samples=500, num_chains=4, chain_method='sequential')\n",
    "mcmc.run(random.PRNGKey(0), d.did.values, d.conc.values)\n",
    "\n",
    "samples_21 = az.from_numpyro(mcmc)"
   ]
  },
  {
   "cell_type": "code",
   "execution_count": 24,
   "metadata": {
    "colab": {
     "base_uri": "https://localhost:8080/"
    },
    "executionInfo": {
     "elapsed": 32037,
     "status": "ok",
     "timestamp": 1609493524449,
     "user": {
      "displayName": "Andrés Suárez",
      "photoUrl": "https://lh5.googleusercontent.com/-s0kzcIwylzA/AAAAAAAAAAI/AAAAAAAAQXA/v8Sc6WgQy7c/s64/photo.jpg",
      "userId": "06409440331868776168"
     },
     "user_tz": -60
    },
    "id": "21s7J_FsN913",
    "outputId": "28381abc-92d0-47ea-98c1-fe51dd0a4f8e"
   },
   "outputs": [
    {
     "name": "stderr",
     "output_type": "stream",
     "text": [
      "sample: 100%|██████████| 1000/1000 [00:06<00:00, 151.97it/s, 7 steps of size 4.27e-01. acc. prob=0.88]\n",
      "sample: 100%|██████████| 1000/1000 [00:02<00:00, 422.27it/s, 31 steps of size 4.29e-01. acc. prob=0.87]\n",
      "sample: 100%|██████████| 1000/1000 [00:02<00:00, 350.04it/s, 15 steps of size 3.71e-01. acc. prob=0.90]\n",
      "sample: 100%|██████████| 1000/1000 [00:02<00:00, 413.46it/s, 7 steps of size 4.34e-01. acc. prob=0.86]\n"
     ]
    }
   ],
   "source": [
    "def model(did, conc=None):\n",
    "    # priors\n",
    "    a_bar = numpyro.sample('a_bar', dist.Normal(0,1.5))\n",
    "    sigma = numpyro.sample('sigma', dist.Exponential(1))\n",
    "    a = numpyro.sample('a', dist.Normal(a_bar,sigma), sample_shape=d.did.unique().shape)\n",
    "    # likelihood\n",
    "    logits = a[did]\n",
    "    numpyro.sample('conc_hat', dist.Bernoulli(logits=logits), obs=conc)\n",
    "\n",
    "kernel = NUTS(model)\n",
    "mcmc = MCMC(kernel, num_warmup=500, num_samples=500, num_chains=4, chain_method='sequential')\n",
    "mcmc.run(rng_key, d.did.values, d.conc.values)\n",
    "\n",
    "samples_22 = az.from_numpyro(mcmc)"
   ]
  },
  {
   "cell_type": "markdown",
   "metadata": {
    "id": "ncXzdoEFDTIV"
   },
   "source": [
    "Now let's extract the samples, compute posterior mean probabilities in each district, and plot it all:"
   ]
  },
  {
   "cell_type": "code",
   "execution_count": 25,
   "metadata": {
    "id": "MnoBMN6KDTIW"
   },
   "outputs": [],
   "source": [
    "model_21 = pd.DataFrame(logistic(samples_21.posterior['a'].mean(axis=0).mean(axis=0)))\n",
    "model_22 = pd.DataFrame(logistic(samples_22.posterior['a'].mean(axis=0).mean(axis=0)))\n",
    "aux = pd.concat([model_21.assign(model='model_21'),\n",
    "                 model_22.assign(model='model_22')]).rename(columns={0:'prob'}).reset_index()"
   ]
  },
  {
   "cell_type": "code",
   "execution_count": 26,
   "metadata": {
    "colab": {
     "base_uri": "https://localhost:8080/"
    },
    "executionInfo": {
     "elapsed": 544,
     "status": "ok",
     "timestamp": 1609493535698,
     "user": {
      "displayName": "Andrés Suárez",
      "photoUrl": "https://lh5.googleusercontent.com/-s0kzcIwylzA/AAAAAAAAAAI/AAAAAAAAQXA/v8Sc6WgQy7c/s64/photo.jpg",
      "userId": "06409440331868776168"
     },
     "user_tz": -60
    },
    "id": "vlRMRkRrDTIW",
    "outputId": "07c4378c-9991-48ec-a60a-7d566e6ae95f"
   },
   "outputs": [
    {
     "data": {
      "text/plain": [
       "DeviceArray(0.3687478, dtype=float32)"
      ]
     },
     "execution_count": 26,
     "metadata": {},
     "output_type": "execute_result"
    }
   ],
   "source": [
    "logistic(samples_22.posterior['a_bar'].mean()) # use it for the red line in the next plot"
   ]
  },
  {
   "cell_type": "markdown",
   "metadata": {
    "id": "0Ao9qTbIDTIX"
   },
   "source": [
    "The blue points are the fixed estimations. The _orange ones_ points are the varying effects. As you'd expect, they are shrunk towards the mean (the _red_ line). Some are shrunk more than others. The third district from the left shrunk a lot. Let's look at the sample size in each district:"
   ]
  },
  {
   "cell_type": "code",
   "execution_count": 27,
   "metadata": {
    "colab": {
     "base_uri": "https://localhost:8080/",
     "height": 202
    },
    "executionInfo": {
     "elapsed": 1158,
     "status": "ok",
     "timestamp": 1609495030038,
     "user": {
      "displayName": "Andrés Suárez",
      "photoUrl": "https://lh5.googleusercontent.com/-s0kzcIwylzA/AAAAAAAAAAI/AAAAAAAAQXA/v8Sc6WgQy7c/s64/photo.jpg",
      "userId": "06409440331868776168"
     },
     "user_tz": -60
    },
    "id": "AIAT_e3xWGAD",
    "outputId": "ce4cb0f7-afe5-40b1-96c0-7a2a4a42ea50"
   },
   "outputs": [
    {
     "data": {
      "image/png": "[encoded data removed]",
      "text/plain": [
       "<Figure size 864x180 with 1 Axes>"
      ]
     },
     "metadata": {},
     "output_type": "display_data"
    }
   ],
   "source": [
    "g = sns.scatterplot(data=aux, x='index', y='prob', hue='model', s=50)\n",
    "g.set(ylim=(0,1), xlabel='district', ylabel='prob. use contraception')\n",
    "g.figure.set_size_inches(12,2.5)\n",
    "g.axhline(0.3679, ls='--', c='r');"
   ]
  },
  {
   "cell_type": "markdown",
   "metadata": {
    "id": "PBbjzGMkDTIY"
   },
   "source": [
    "District 3 has only 2 women sampled. So it shrinks a lot. There are couple of other districts, like 49 and 54, that also have very few women sampled. But their fixed estimates aren't as extreme, so they don't shrink as much as district 3 does.\n",
    "\n",
    "All of this is explained by partial pooling, of course."
   ]
  },
  {
   "cell_type": "code",
   "execution_count": 28,
   "metadata": {
    "colab": {
     "base_uri": "https://localhost:8080/",
     "height": 100
    },
    "executionInfo": {
     "elapsed": 857,
     "status": "ok",
     "timestamp": 1609494963912,
     "user": {
      "displayName": "Andrés Suárez",
      "photoUrl": "https://lh5.googleusercontent.com/-s0kzcIwylzA/AAAAAAAAAAI/AAAAAAAAQXA/v8Sc6WgQy7c/s64/photo.jpg",
      "userId": "06409440331868776168"
     },
     "user_tz": -60
    },
    "id": "jFApQAMBDTIY",
    "outputId": "448c0b4e-89aa-40fb-ff0f-e0d538ad89c9"
   },
   "outputs": [
    {
     "data": {
      "text/html": [
       "<div>\n",
       "<style scoped>\n",
       "    .dataframe tbody tr th:only-of-type {\n",
       "        vertical-align: middle;\n",
       "    }\n",
       "\n",
       "    .dataframe tbody tr th {\n",
       "        vertical-align: top;\n",
       "    }\n",
       "\n",
       "    .dataframe thead th {\n",
       "        text-align: right;\n",
       "    }\n",
       "</style>\n",
       "<table border=\"1\" class=\"dataframe\">\n",
       "  <thead>\n",
       "    <tr style=\"text-align: right;\">\n",
       "      <th></th>\n",
       "      <th>1</th>\n",
       "      <th>2</th>\n",
       "      <th>3</th>\n",
       "      <th>4</th>\n",
       "      <th>5</th>\n",
       "      <th>6</th>\n",
       "      <th>7</th>\n",
       "      <th>8</th>\n",
       "      <th>9</th>\n",
       "      <th>10</th>\n",
       "      <th>...</th>\n",
       "      <th>51</th>\n",
       "      <th>52</th>\n",
       "      <th>53</th>\n",
       "      <th>55</th>\n",
       "      <th>56</th>\n",
       "      <th>57</th>\n",
       "      <th>58</th>\n",
       "      <th>59</th>\n",
       "      <th>60</th>\n",
       "      <th>61</th>\n",
       "    </tr>\n",
       "  </thead>\n",
       "  <tbody>\n",
       "    <tr>\n",
       "      <th>district</th>\n",
       "      <td>117</td>\n",
       "      <td>20</td>\n",
       "      <td>2</td>\n",
       "      <td>30</td>\n",
       "      <td>39</td>\n",
       "      <td>65</td>\n",
       "      <td>18</td>\n",
       "      <td>37</td>\n",
       "      <td>23</td>\n",
       "      <td>13</td>\n",
       "      <td>...</td>\n",
       "      <td>37</td>\n",
       "      <td>61</td>\n",
       "      <td>19</td>\n",
       "      <td>6</td>\n",
       "      <td>45</td>\n",
       "      <td>27</td>\n",
       "      <td>33</td>\n",
       "      <td>10</td>\n",
       "      <td>32</td>\n",
       "      <td>42</td>\n",
       "    </tr>\n",
       "  </tbody>\n",
       "</table>\n",
       "<p>1 rows × 60 columns</p>\n",
       "</div>"
      ],
      "text/plain": [
       "           1   2   3   4   5   6   7   8   9   10  ...  51  52  53  55  56  \\\n",
       "district  117  20   2  30  39  65  18  37  23  13  ...  37  61  19   6  45   \n",
       "\n",
       "          57  58  59  60  61  \n",
       "district  27  33  10  32  42  \n",
       "\n",
       "[1 rows x 60 columns]"
      ]
     },
     "execution_count": 28,
     "metadata": {},
     "output_type": "execute_result"
    }
   ],
   "source": [
    "pd.DataFrame(d.district.value_counts().sort_index()).T"
   ]
  },
  {
   "cell_type": "markdown",
   "metadata": {
    "id": "Uur4Nc9ZDTIY"
   },
   "source": [
    "## Exercise 3"
   ]
  },
  {
   "cell_type": "markdown",
   "metadata": {
    "id": "umXdqjrgDTIY"
   },
   "source": [
    "Return to the Trolley data, (`Trolley`), from Chapter 12. Define and fit a varying intercepts model for these data. By this I mean to add an intercept parameter for the individual to the linear model. Cluster the varying intercepts on individual participants, as indicated by the unique values in the id variable. Include action, intention, and contact as before. Compare the varying intercepts model and a model that ignores individuals, using both WAIC/LOO and posterior predictions. What is the impact of individual variation in these data?"
   ]
  },
  {
   "cell_type": "code",
   "execution_count": 29,
   "metadata": {
    "colab": {
     "base_uri": "https://localhost:8080/",
     "height": 142
    },
    "executionInfo": {
     "elapsed": 636,
     "status": "ok",
     "timestamp": 1609496047750,
     "user": {
      "displayName": "Andrés Suárez",
      "photoUrl": "https://lh5.googleusercontent.com/-s0kzcIwylzA/AAAAAAAAAAI/AAAAAAAAQXA/v8Sc6WgQy7c/s64/photo.jpg",
      "userId": "06409440331868776168"
     },
     "user_tz": -60
    },
    "id": "kkSxAc03DTIZ",
    "outputId": "5b2ff347-c218-412e-d885-10ff39c474b2"
   },
   "outputs": [
    {
     "data": {
      "text/html": [
       "<div>\n",
       "<style scoped>\n",
       "    .dataframe tbody tr th:only-of-type {\n",
       "        vertical-align: middle;\n",
       "    }\n",
       "\n",
       "    .dataframe tbody tr th {\n",
       "        vertical-align: top;\n",
       "    }\n",
       "\n",
       "    .dataframe thead th {\n",
       "        text-align: right;\n",
       "    }\n",
       "</style>\n",
       "<table border=\"1\" class=\"dataframe\">\n",
       "  <thead>\n",
       "    <tr style=\"text-align: right;\">\n",
       "      <th></th>\n",
       "      <th>case</th>\n",
       "      <th>response</th>\n",
       "      <th>order</th>\n",
       "      <th>id</th>\n",
       "      <th>age</th>\n",
       "      <th>male</th>\n",
       "      <th>edu</th>\n",
       "      <th>action</th>\n",
       "      <th>intention</th>\n",
       "      <th>contact</th>\n",
       "      <th>story</th>\n",
       "      <th>action2</th>\n",
       "      <th>edu_new</th>\n",
       "      <th>age_std</th>\n",
       "    </tr>\n",
       "  </thead>\n",
       "  <tbody>\n",
       "    <tr>\n",
       "      <th>0</th>\n",
       "      <td>cfaqu</td>\n",
       "      <td>4</td>\n",
       "      <td>2</td>\n",
       "      <td>0</td>\n",
       "      <td>14</td>\n",
       "      <td>0</td>\n",
       "      <td>Middle School</td>\n",
       "      <td>0</td>\n",
       "      <td>0</td>\n",
       "      <td>1</td>\n",
       "      <td>aqu</td>\n",
       "      <td>1</td>\n",
       "      <td>1</td>\n",
       "      <td>-1.650275</td>\n",
       "    </tr>\n",
       "    <tr>\n",
       "      <th>1</th>\n",
       "      <td>cfbur</td>\n",
       "      <td>3</td>\n",
       "      <td>31</td>\n",
       "      <td>0</td>\n",
       "      <td>14</td>\n",
       "      <td>0</td>\n",
       "      <td>Middle School</td>\n",
       "      <td>0</td>\n",
       "      <td>0</td>\n",
       "      <td>1</td>\n",
       "      <td>bur</td>\n",
       "      <td>1</td>\n",
       "      <td>1</td>\n",
       "      <td>-1.650275</td>\n",
       "    </tr>\n",
       "    <tr>\n",
       "      <th>2</th>\n",
       "      <td>cfrub</td>\n",
       "      <td>4</td>\n",
       "      <td>16</td>\n",
       "      <td>0</td>\n",
       "      <td>14</td>\n",
       "      <td>0</td>\n",
       "      <td>Middle School</td>\n",
       "      <td>0</td>\n",
       "      <td>0</td>\n",
       "      <td>1</td>\n",
       "      <td>rub</td>\n",
       "      <td>1</td>\n",
       "      <td>1</td>\n",
       "      <td>-1.650275</td>\n",
       "    </tr>\n",
       "  </tbody>\n",
       "</table>\n",
       "</div>"
      ],
      "text/plain": [
       "    case  response  order  id  age  male            edu  action  intention  \\\n",
       "0  cfaqu         4      2   0   14     0  Middle School       0          0   \n",
       "1  cfbur         3     31   0   14     0  Middle School       0          0   \n",
       "2  cfrub         4     16   0   14     0  Middle School       0          0   \n",
       "\n",
       "   contact story  action2  edu_new   age_std  \n",
       "0        1   aqu        1        1 -1.650275  \n",
       "1        1   bur        1        1 -1.650275  \n",
       "2        1   rub        1        1 -1.650275  "
      ]
     },
     "execution_count": 29,
     "metadata": {},
     "output_type": "execute_result"
    }
   ],
   "source": [
    "d = pd.read_csv('./dat/Trolley.csv', header=0, sep=';')\n",
    "elvl = d['edu'].unique()\n",
    "idx = [7 , 0 , 6 , 4 , 2 , 1, 3, 5]\n",
    "cat = pd.Categorical(d.edu, categories=list(elvl[idx]), ordered=True)\n",
    "d['edu_new'] = pd.factorize(cat, sort=True)[0].astype('int')\n",
    "d['age_std'] = (d['age'] - d['age'].mean())/d['age'].std()\n",
    "d['id'] = pd.factorize(d['id'])[0]\n",
    "d.head(3)"
   ]
  },
  {
   "cell_type": "markdown",
   "metadata": {
    "id": "sExJeEvPDTIa"
   },
   "source": [
    "First, let's load the data and re-run the old model from Chapter 12:"
   ]
  },
  {
   "cell_type": "code",
   "execution_count": 30,
   "metadata": {
    "colab": {
     "base_uri": "https://localhost:8080/"
    },
    "executionInfo": {
     "elapsed": 785799,
     "status": "ok",
     "timestamp": 1609497392955,
     "user": {
      "displayName": "Andrés Suárez",
      "photoUrl": "https://lh5.googleusercontent.com/-s0kzcIwylzA/AAAAAAAAAAI/AAAAAAAAQXA/v8Sc6WgQy7c/s64/photo.jpg",
      "userId": "06409440331868776168"
     },
     "user_tz": -60
    },
    "id": "nj73M5KXbaHq",
    "outputId": "24f34729-a40f-4c5e-ce18-34dfe76b0d51"
   },
   "outputs": [
    {
     "name": "stderr",
     "output_type": "stream",
     "text": [
      "sample: 100%|██████████| 1000/1000 [00:29<00:00, 34.45it/s, 31 steps of size 2.09e-01. acc. prob=0.95]\n",
      "sample: 100%|██████████| 1000/1000 [17:08<00:00,  1.03s/it, 1023 steps of size 5.34e-06. acc. prob=0.83]\n",
      "sample: 100%|██████████| 1000/1000 [00:17<00:00, 56.43it/s, 15 steps of size 2.82e-01. acc. prob=0.93]\n",
      "sample: 100%|██████████| 1000/1000 [00:18<00:00, 53.22it/s, 23 steps of size 2.20e-01. acc. prob=0.93]\n"
     ]
    },
    {
     "name": "stdout",
     "output_type": "stream",
     "text": [
      "\n",
      "                  mean       std    median      5.0%     95.0%     n_eff     r_hat\n",
      "          bA     -0.29      0.33     -0.45     -0.54      0.27      2.04      7.41\n",
      "          bC     -0.54      0.34     -0.37     -1.12     -0.27      2.05      6.02\n",
      "          bI     -0.48      0.32     -0.32     -1.03     -0.23      2.04      6.94\n",
      "         bIA     -0.79      0.62     -0.47     -1.85     -0.35      2.02      9.64\n",
      "         bIC     -0.50      1.28     -1.19     -1.35      1.72      2.01     15.92\n",
      "cutpoints[0]     -1.98      1.14     -2.62     -2.69     -0.01      2.00     26.74\n",
      "cutpoints[1]     -0.61      2.31     -1.92     -1.99      3.40      2.00     59.25\n",
      "cutpoints[2]      1.26      4.51     -1.33     -1.40      9.07      2.00    121.92\n",
      "cutpoints[3]      2.86      5.49     -0.29     -0.36     12.36      2.00    156.60\n",
      "cutpoints[4]      3.41      5.29      0.38      0.31     12.58      2.00    151.02\n",
      "cutpoints[5]      4.25      5.16      1.29      1.21     13.19      2.00    136.07\n",
      "\n",
      "Number of divergences: 0\n"
     ]
    }
   ],
   "source": [
    "def model(action, contact, intention, response=None):\n",
    "    # priors\n",
    "    cutpoints = numpyro.sample('cutpoints', \n",
    "                               dist.TransformedDistribution( \n",
    "                                   dist.Normal(0, 1.5).expand([6]), \n",
    "                                   OrderedTransform()\n",
    "                                   ),\n",
    "                               )\n",
    "    norm = lambda label: numpyro.sample(label, dist.Normal(0,0.5))\n",
    "    bA = norm('bA')\n",
    "    bC = norm('bC')\n",
    "    bI = norm('bI')\n",
    "    bIA = norm('bIA')\n",
    "    bIC = norm('bIC')\n",
    "    # likelihood\n",
    "    BI = bI + bIA*action + bIC*contact\n",
    "    phi = bA*action + bC*contact + BI*intention\n",
    "    response_hat = numpyro.sample('response_hat', dist.OrderedLogistic(phi, cutpoints), obs=response-1)\n",
    "\n",
    "# posterior sampling\n",
    "mcmc = MCMC(NUTS(model), num_warmup=500, num_samples=500, num_chains=4, chain_method='sequential')\n",
    "mcmc.run(rng_key, d.action.values, d.contact.values, d.intention.values, d.response.values)\n",
    "mcmc.print_summary()\n",
    "samples_31 = az.from_numpyro(mcmc)"
   ]
  },
  {
   "cell_type": "markdown",
   "metadata": {
    "id": "7LD89ncWDTIb"
   },
   "source": [
    "Now to run the varying intercept model, we need to build a valid individual ID variable. The IDs in the data are long tags, so we can coerce them to integers in many ways. What is important is that the index values go from 1 (_zero in python_) to the number of individuals."
   ]
  },
  {
   "cell_type": "code",
   "execution_count": 31,
   "metadata": {
    "colab": {
     "base_uri": "https://localhost:8080/"
    },
    "executionInfo": {
     "elapsed": 188644,
     "status": "ok",
     "timestamp": 1609497862752,
     "user": {
      "displayName": "Andrés Suárez",
      "photoUrl": "https://lh5.googleusercontent.com/-s0kzcIwylzA/AAAAAAAAAAI/AAAAAAAAQXA/v8Sc6WgQy7c/s64/photo.jpg",
      "userId": "06409440331868776168"
     },
     "user_tz": -60
    },
    "id": "-kOUxmCuesXa",
    "outputId": "2196fb8a-0503-403c-8ae0-8ef4bd6a4950"
   },
   "outputs": [
    {
     "name": "stderr",
     "output_type": "stream",
     "text": [
      "sample: 100%|██████████| 1000/1000 [01:02<00:00, 16.01it/s, 31 steps of size 1.60e-01. acc. prob=0.93]\n",
      "sample: 100%|██████████| 1000/1000 [00:49<00:00, 20.18it/s, 31 steps of size 1.54e-01. acc. prob=0.92] \n",
      "sample: 100%|██████████| 1000/1000 [01:00<00:00, 16.62it/s, 31 steps of size 1.55e-01. acc. prob=0.93]\n",
      "sample: 100%|██████████| 1000/1000 [00:46<00:00, 21.42it/s, 31 steps of size 1.49e-01. acc. prob=0.91]\n"
     ]
    }
   ],
   "source": [
    "def model(action, contact, intention, id, response=None):\n",
    "    # priors\n",
    "    cutpoints = numpyro.sample('cutpoints', \n",
    "                               dist.TransformedDistribution( \n",
    "                                   dist.Normal(0, 1.5).expand([6]), \n",
    "                                   OrderedTransform()\n",
    "                                   ),\n",
    "                               )\n",
    "    norm = lambda label: numpyro.sample(label, dist.Normal(0,0.5))\n",
    "    bA = norm('bA')\n",
    "    bC = norm('bC')\n",
    "    bI = norm('bI')\n",
    "    bIA = norm('bIA')\n",
    "    bIC = norm('bIC')\n",
    "    sigma = numpyro.sample('sigma', dist.Exponential(1))\n",
    "    a = numpyro.sample('a', dist.Normal(0, sigma), sample_shape=d.id.unique().shape)\n",
    "    # likelihood\n",
    "    BI = bI + bIA*action + bIC*contact\n",
    "    phi = a[id] + bA*action + bC*contact + BI*intention\n",
    "    response_hat = numpyro.sample('response_hat', dist.OrderedLogistic(phi, cutpoints), obs=response-1)\n",
    "\n",
    "# posterior sampling\n",
    "mcmc = MCMC(NUTS(model), num_warmup=500, num_samples=500, num_chains=4, chain_method='sequential')\n",
    "mcmc.run(rng_key, d.action.values, d.contact.values, d.intention.values, d.id.values, d.response.values)\n",
    "samples_32 = az.from_numpyro(mcmc)"
   ]
  },
  {
   "cell_type": "markdown",
   "metadata": {
    "id": "rKfTh509DTIb"
   },
   "source": [
    "We can begin by comparing the posterior distributions. The original coefficients are:"
   ]
  },
  {
   "cell_type": "code",
   "execution_count": 32,
   "metadata": {
    "colab": {
     "base_uri": "https://localhost:8080/",
     "height": 204
    },
    "executionInfo": {
     "elapsed": 526,
     "status": "ok",
     "timestamp": 1609497879494,
     "user": {
      "displayName": "Andrés Suárez",
      "photoUrl": "https://lh5.googleusercontent.com/-s0kzcIwylzA/AAAAAAAAAAI/AAAAAAAAQXA/v8Sc6WgQy7c/s64/photo.jpg",
      "userId": "06409440331868776168"
     },
     "user_tz": -60
    },
    "id": "as16uFbXDTIb",
    "outputId": "03bc3c07-da58-4444-fd18-56fe68fc14d7"
   },
   "outputs": [
    {
     "data": {
      "text/html": [
       "<div>\n",
       "<style scoped>\n",
       "    .dataframe tbody tr th:only-of-type {\n",
       "        vertical-align: middle;\n",
       "    }\n",
       "\n",
       "    .dataframe tbody tr th {\n",
       "        vertical-align: top;\n",
       "    }\n",
       "\n",
       "    .dataframe thead th {\n",
       "        text-align: right;\n",
       "    }\n",
       "</style>\n",
       "<table border=\"1\" class=\"dataframe\">\n",
       "  <thead>\n",
       "    <tr style=\"text-align: right;\">\n",
       "      <th></th>\n",
       "      <th>mean</th>\n",
       "      <th>sd</th>\n",
       "      <th>hdi_5.5%</th>\n",
       "      <th>hdi_94.5%</th>\n",
       "      <th>mcse_mean</th>\n",
       "      <th>mcse_sd</th>\n",
       "      <th>ess_bulk</th>\n",
       "      <th>ess_tail</th>\n",
       "      <th>r_hat</th>\n",
       "    </tr>\n",
       "  </thead>\n",
       "  <tbody>\n",
       "    <tr>\n",
       "      <th>bA</th>\n",
       "      <td>-0.29</td>\n",
       "      <td>0.33</td>\n",
       "      <td>-0.53</td>\n",
       "      <td>0.28</td>\n",
       "      <td>0.16</td>\n",
       "      <td>0.12</td>\n",
       "      <td>7.0</td>\n",
       "      <td>23.0</td>\n",
       "      <td>1.54</td>\n",
       "    </tr>\n",
       "    <tr>\n",
       "      <th>bC</th>\n",
       "      <td>-0.54</td>\n",
       "      <td>0.34</td>\n",
       "      <td>-1.12</td>\n",
       "      <td>-0.27</td>\n",
       "      <td>0.17</td>\n",
       "      <td>0.13</td>\n",
       "      <td>7.0</td>\n",
       "      <td>20.0</td>\n",
       "      <td>1.53</td>\n",
       "    </tr>\n",
       "    <tr>\n",
       "      <th>bI</th>\n",
       "      <td>-0.48</td>\n",
       "      <td>0.32</td>\n",
       "      <td>-1.03</td>\n",
       "      <td>-0.24</td>\n",
       "      <td>0.16</td>\n",
       "      <td>0.12</td>\n",
       "      <td>7.0</td>\n",
       "      <td>10.0</td>\n",
       "      <td>1.54</td>\n",
       "    </tr>\n",
       "    <tr>\n",
       "      <th>bIA</th>\n",
       "      <td>-0.79</td>\n",
       "      <td>0.62</td>\n",
       "      <td>-1.85</td>\n",
       "      <td>-0.35</td>\n",
       "      <td>0.30</td>\n",
       "      <td>0.23</td>\n",
       "      <td>7.0</td>\n",
       "      <td>24.0</td>\n",
       "      <td>1.54</td>\n",
       "    </tr>\n",
       "    <tr>\n",
       "      <th>bIC</th>\n",
       "      <td>-0.50</td>\n",
       "      <td>1.28</td>\n",
       "      <td>-1.34</td>\n",
       "      <td>1.72</td>\n",
       "      <td>0.63</td>\n",
       "      <td>0.48</td>\n",
       "      <td>7.0</td>\n",
       "      <td>20.0</td>\n",
       "      <td>1.55</td>\n",
       "    </tr>\n",
       "  </tbody>\n",
       "</table>\n",
       "</div>"
      ],
      "text/plain": [
       "     mean    sd  hdi_5.5%  hdi_94.5%  mcse_mean  mcse_sd  ess_bulk  ess_tail  \\\n",
       "bA  -0.29  0.33     -0.53       0.28       0.16     0.12       7.0      23.0   \n",
       "bC  -0.54  0.34     -1.12      -0.27       0.17     0.13       7.0      20.0   \n",
       "bI  -0.48  0.32     -1.03      -0.24       0.16     0.12       7.0      10.0   \n",
       "bIA -0.79  0.62     -1.85      -0.35       0.30     0.23       7.0      24.0   \n",
       "bIC -0.50  1.28     -1.34       1.72       0.63     0.48       7.0      20.0   \n",
       "\n",
       "     r_hat  \n",
       "bA    1.54  \n",
       "bC    1.53  \n",
       "bI    1.54  \n",
       "bIA   1.54  \n",
       "bIC   1.55  "
      ]
     },
     "execution_count": 32,
     "metadata": {},
     "output_type": "execute_result"
    }
   ],
   "source": [
    "az.summary(samples_31, var_names=['bA', 'bC', 'bI', 'bIA', 'bIC'], hdi_prob=.89).round(2)"
   ]
  },
  {
   "cell_type": "markdown",
   "metadata": {
    "id": "p_19DQmWDTIc"
   },
   "source": [
    "And the new ones, having added the individual IDs, are:"
   ]
  },
  {
   "cell_type": "code",
   "execution_count": 33,
   "metadata": {
    "colab": {
     "base_uri": "https://localhost:8080/",
     "height": 235
    },
    "executionInfo": {
     "elapsed": 659,
     "status": "ok",
     "timestamp": 1609497893241,
     "user": {
      "displayName": "Andrés Suárez",
      "photoUrl": "https://lh5.googleusercontent.com/-s0kzcIwylzA/AAAAAAAAAAI/AAAAAAAAQXA/v8Sc6WgQy7c/s64/photo.jpg",
      "userId": "06409440331868776168"
     },
     "user_tz": -60
    },
    "id": "Uz64hzbdDTIc",
    "outputId": "8d5ecc98-9227-4600-da73-3a6aa19e4fd8"
   },
   "outputs": [
    {
     "data": {
      "text/html": [
       "<div>\n",
       "<style scoped>\n",
       "    .dataframe tbody tr th:only-of-type {\n",
       "        vertical-align: middle;\n",
       "    }\n",
       "\n",
       "    .dataframe tbody tr th {\n",
       "        vertical-align: top;\n",
       "    }\n",
       "\n",
       "    .dataframe thead th {\n",
       "        text-align: right;\n",
       "    }\n",
       "</style>\n",
       "<table border=\"1\" class=\"dataframe\">\n",
       "  <thead>\n",
       "    <tr style=\"text-align: right;\">\n",
       "      <th></th>\n",
       "      <th>mean</th>\n",
       "      <th>sd</th>\n",
       "      <th>hdi_5.5%</th>\n",
       "      <th>hdi_94.5%</th>\n",
       "      <th>mcse_mean</th>\n",
       "      <th>mcse_sd</th>\n",
       "      <th>ess_bulk</th>\n",
       "      <th>ess_tail</th>\n",
       "      <th>r_hat</th>\n",
       "    </tr>\n",
       "  </thead>\n",
       "  <tbody>\n",
       "    <tr>\n",
       "      <th>bA</th>\n",
       "      <td>-0.65</td>\n",
       "      <td>0.06</td>\n",
       "      <td>-0.74</td>\n",
       "      <td>-0.56</td>\n",
       "      <td>0.0</td>\n",
       "      <td>0.0</td>\n",
       "      <td>2090.0</td>\n",
       "      <td>1678.0</td>\n",
       "      <td>1.0</td>\n",
       "    </tr>\n",
       "    <tr>\n",
       "      <th>bC</th>\n",
       "      <td>-0.45</td>\n",
       "      <td>0.07</td>\n",
       "      <td>-0.57</td>\n",
       "      <td>-0.35</td>\n",
       "      <td>0.0</td>\n",
       "      <td>0.0</td>\n",
       "      <td>2334.0</td>\n",
       "      <td>1674.0</td>\n",
       "      <td>1.0</td>\n",
       "    </tr>\n",
       "    <tr>\n",
       "      <th>bI</th>\n",
       "      <td>-0.39</td>\n",
       "      <td>0.06</td>\n",
       "      <td>-0.49</td>\n",
       "      <td>-0.30</td>\n",
       "      <td>0.0</td>\n",
       "      <td>0.0</td>\n",
       "      <td>1694.0</td>\n",
       "      <td>1597.0</td>\n",
       "      <td>1.0</td>\n",
       "    </tr>\n",
       "    <tr>\n",
       "      <th>bIA</th>\n",
       "      <td>-0.56</td>\n",
       "      <td>0.08</td>\n",
       "      <td>-0.69</td>\n",
       "      <td>-0.43</td>\n",
       "      <td>0.0</td>\n",
       "      <td>0.0</td>\n",
       "      <td>2010.0</td>\n",
       "      <td>1711.0</td>\n",
       "      <td>1.0</td>\n",
       "    </tr>\n",
       "    <tr>\n",
       "      <th>bIC</th>\n",
       "      <td>-1.67</td>\n",
       "      <td>0.10</td>\n",
       "      <td>-1.83</td>\n",
       "      <td>-1.50</td>\n",
       "      <td>0.0</td>\n",
       "      <td>0.0</td>\n",
       "      <td>2145.0</td>\n",
       "      <td>1470.0</td>\n",
       "      <td>1.0</td>\n",
       "    </tr>\n",
       "    <tr>\n",
       "      <th>sigma</th>\n",
       "      <td>1.92</td>\n",
       "      <td>0.08</td>\n",
       "      <td>1.78</td>\n",
       "      <td>2.04</td>\n",
       "      <td>0.0</td>\n",
       "      <td>0.0</td>\n",
       "      <td>3166.0</td>\n",
       "      <td>1528.0</td>\n",
       "      <td>1.0</td>\n",
       "    </tr>\n",
       "  </tbody>\n",
       "</table>\n",
       "</div>"
      ],
      "text/plain": [
       "       mean    sd  hdi_5.5%  hdi_94.5%  mcse_mean  mcse_sd  ess_bulk  \\\n",
       "bA    -0.65  0.06     -0.74      -0.56        0.0      0.0    2090.0   \n",
       "bC    -0.45  0.07     -0.57      -0.35        0.0      0.0    2334.0   \n",
       "bI    -0.39  0.06     -0.49      -0.30        0.0      0.0    1694.0   \n",
       "bIA   -0.56  0.08     -0.69      -0.43        0.0      0.0    2010.0   \n",
       "bIC   -1.67  0.10     -1.83      -1.50        0.0      0.0    2145.0   \n",
       "sigma  1.92  0.08      1.78       2.04        0.0      0.0    3166.0   \n",
       "\n",
       "       ess_tail  r_hat  \n",
       "bA       1678.0    1.0  \n",
       "bC       1674.0    1.0  \n",
       "bI       1597.0    1.0  \n",
       "bIA      1711.0    1.0  \n",
       "bIC      1470.0    1.0  \n",
       "sigma    1528.0    1.0  "
      ]
     },
     "execution_count": 33,
     "metadata": {},
     "output_type": "execute_result"
    }
   ],
   "source": [
    "az.summary(samples_32, var_names=['bA', 'bC', 'bI', 'bIA', 'bIC', 'sigma'], hdi_prob=.89).round(2)"
   ]
  },
  {
   "cell_type": "markdown",
   "metadata": {
    "id": "WOIHeaWMDTIc"
   },
   "source": [
    "Everything has gotten more negative. This is because there is a lot of individual variation in average rating, look at the distribution for sigma. That is on the $logit$ scale, so that's a lot of variation on the probability scale. That variation in average rating was hiding some of the effect of the treatments. We get more precision by conditioning on individual.\n",
    "\n",
    "The WAIC comparison can also help show how much variation comes from individual differences in average rating:"
   ]
  },
  {
   "cell_type": "code",
   "execution_count": 34,
   "metadata": {
    "colab": {
     "base_uri": "https://localhost:8080/",
     "height": 233
    },
    "executionInfo": {
     "elapsed": 5571,
     "status": "ok",
     "timestamp": 1609498189373,
     "user": {
      "displayName": "Andrés Suárez",
      "photoUrl": "https://lh5.googleusercontent.com/-s0kzcIwylzA/AAAAAAAAAAI/AAAAAAAAQXA/v8Sc6WgQy7c/s64/photo.jpg",
      "userId": "06409440331868776168"
     },
     "user_tz": -60
    },
    "id": "DOt1m8HXjZJc",
    "outputId": "8ec8c748-6a0d-41db-a3b1-7c1209893213"
   },
   "outputs": [
    {
     "name": "stderr",
     "output_type": "stream",
     "text": [
      "/Library/Frameworks/Python.framework/Versions/3.9/lib/python3.9/site-packages/arviz/stats/stats.py:145: UserWarning: The default method used to estimate the weights for each model,has changed from BB-pseudo-BMA to stacking\n",
      "  warnings.warn(\n",
      "/Library/Frameworks/Python.framework/Versions/3.9/lib/python3.9/site-packages/arviz/stats/stats.py:1405: UserWarning: For one or more samples the posterior variance of the log predictive densities exceeds 0.4. This could be indication of WAIC starting to fail. \n",
      "See http://arxiv.org/abs/1507.04544 for details\n",
      "  warnings.warn(\n",
      "/Library/Frameworks/Python.framework/Versions/3.9/lib/python3.9/site-packages/arviz/stats/stats.py:1405: UserWarning: For one or more samples the posterior variance of the log predictive densities exceeds 0.4. This could be indication of WAIC starting to fail. \n",
      "See http://arxiv.org/abs/1507.04544 for details\n",
      "  warnings.warn(\n"
     ]
    },
    {
     "data": {
      "text/html": [
       "<div>\n",
       "<style scoped>\n",
       "    .dataframe tbody tr th:only-of-type {\n",
       "        vertical-align: middle;\n",
       "    }\n",
       "\n",
       "    .dataframe tbody tr th {\n",
       "        vertical-align: top;\n",
       "    }\n",
       "\n",
       "    .dataframe thead th {\n",
       "        text-align: right;\n",
       "    }\n",
       "</style>\n",
       "<table border=\"1\" class=\"dataframe\">\n",
       "  <thead>\n",
       "    <tr style=\"text-align: right;\">\n",
       "      <th></th>\n",
       "      <th>rank</th>\n",
       "      <th>waic</th>\n",
       "      <th>p_waic</th>\n",
       "      <th>d_waic</th>\n",
       "      <th>weight</th>\n",
       "      <th>se</th>\n",
       "      <th>dse</th>\n",
       "      <th>warning</th>\n",
       "      <th>waic_scale</th>\n",
       "    </tr>\n",
       "  </thead>\n",
       "  <tbody>\n",
       "    <tr>\n",
       "      <th>model_32</th>\n",
       "      <td>0</td>\n",
       "      <td>31056.632797</td>\n",
       "      <td>356.438751</td>\n",
       "      <td>0.00000</td>\n",
       "      <td>1.000000e+00</td>\n",
       "      <td>179.443929</td>\n",
       "      <td>0.0000</td>\n",
       "      <td>True</td>\n",
       "      <td>deviance</td>\n",
       "    </tr>\n",
       "    <tr>\n",
       "      <th>model_31</th>\n",
       "      <td>1</td>\n",
       "      <td>348197.337167</td>\n",
       "      <td>154668.515625</td>\n",
       "      <td>317140.70437</td>\n",
       "      <td>1.110223e-16</td>\n",
       "      <td>2493.716070</td>\n",
       "      <td>2512.3124</td>\n",
       "      <td>True</td>\n",
       "      <td>deviance</td>\n",
       "    </tr>\n",
       "  </tbody>\n",
       "</table>\n",
       "</div>"
      ],
      "text/plain": [
       "          rank           waic         p_waic        d_waic        weight  \\\n",
       "model_32     0   31056.632797     356.438751       0.00000  1.000000e+00   \n",
       "model_31     1  348197.337167  154668.515625  317140.70437  1.110223e-16   \n",
       "\n",
       "                   se        dse  warning waic_scale  \n",
       "model_32   179.443929     0.0000     True   deviance  \n",
       "model_31  2493.716070  2512.3124     True   deviance  "
      ]
     },
     "execution_count": 34,
     "metadata": {},
     "output_type": "execute_result"
    }
   ],
   "source": [
    "az.compare({'model_31': samples_31, 'model_32': samples_32}, ic='waic', scale='deviance')"
   ]
  },
  {
   "cell_type": "markdown",
   "metadata": {
    "id": "95Zju_FSDTId"
   },
   "source": [
    "The WAIC difference is massive. This is consistent with individual variation in average rating being a major effect in this sample. This is all quite typical of likert-scale data, in my experience. Individuals anchor on different points and this adds noise. When we have repeat samples from the same individual, we can condition away some of that noise and get more precise estimates of the treatment effects."
   ]
  }
 ],
 "metadata": {
  "colab": {
   "collapsed_sections": [],
   "name": "rethink_stats_numpyro_w08.ipynb",
   "provenance": []
  },
  "kernelspec": {
   "display_name": "Python 3",
   "language": "python",
   "name": "python3"
  },
  "language_info": {
   "codemirror_mode": {
    "name": "ipython",
    "version": 3
   },
   "file_extension": ".py",
   "mimetype": "text/x-python",
   "name": "python",
   "nbconvert_exporter": "python",
   "pygments_lexer": "ipython3",
   "version": "3.9.1"
  }
 },
 "nbformat": 4,
 "nbformat_minor": 4
}
