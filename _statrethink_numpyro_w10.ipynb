{
 "cells": [
  {
   "cell_type": "markdown",
   "metadata": {},
   "source": [
    "# Rethinking Statistics course in NumPyro - Week 10"
   ]
  },
  {
   "cell_type": "markdown",
   "metadata": {},
   "source": [
    "Lecture 19: Gaussian Processes\n",
    "\n",
    "- [Video](https://www.youtube.com/watch?v=pwMRbt2CbSU)\n",
    "- [Slides](https://speakerdeck.com/rmcelreath/l19-statistical-rethinking-winter-2019)\n",
    "\n",
    "Lecture 20: Missing Values and Measurement Error\n",
    "\n",
    "- [Video](https://www.youtube.com/watch?v=UgLF0aLk85s)\n",
    "- [Slides](https://speakerdeck.com/rmcelreath/l19-statistical-rethinking-winter-2019)\n",
    "\n",
    "[Proposed problems](https://github.com/gbosquechacon/statrethinking_winter2019/blob/master/homework/week10.pdf) and [solutions in R](https://github.com/gbosquechacon/statrethinking_winter2019/blob/master/homework/week10_solutions.pdf) for the exercises of the week."
   ]
  },
  {
   "cell_type": "code",
   "execution_count": 1,
   "metadata": {},
   "outputs": [],
   "source": [
    "import pandas as pd\n",
    "import numpy as np\n",
    "from scipy import stats\n",
    "\n",
    "import jax.numpy as jnp\n",
    "from jax import ops, random\n",
    "from jax.scipy.special import expit as logistic\n",
    "import numpyro\n",
    "from numpyro.infer import NUTS, MCMC, init_to_value\n",
    "import numpyro.distributions as dist\n",
    "from numpyro.distributions.transforms import OrderedTransform\n",
    "\n",
    "import seaborn as sns\n",
    "import arviz as az"
   ]
  },
  {
   "cell_type": "code",
   "execution_count": 2,
   "metadata": {},
   "outputs": [
    {
     "name": "stdout",
     "output_type": "stream",
     "text": [
      "Last updated: Sun Apr 04 2021\n",
      "\n",
      "Python implementation: CPython\n",
      "Python version       : 3.9.1\n",
      "IPython version      : 7.21.0\n",
      "\n",
      "arviz  : 0.11.2\n",
      "jax    : 0.2.10\n",
      "seaborn: 0.11.1\n",
      "scipy  : 1.6.1\n",
      "numpyro: 0.6.0\n",
      "numpy  : 1.20.1\n",
      "pandas : 1.2.3\n",
      "\n",
      "Watermark: 2.2.0\n",
      "\n"
     ]
    }
   ],
   "source": [
    "%load_ext watermark\n",
    "%watermark -n -u -v -iv -w"
   ]
  },
  {
   "cell_type": "code",
   "execution_count": 3,
   "metadata": {},
   "outputs": [],
   "source": [
    "sns.set_style('whitegrid')\n",
    "rng_key = random.PRNGKey(0)"
   ]
  },
  {
   "cell_type": "markdown",
   "metadata": {},
   "source": [
    "## Exercise 1"
   ]
  },
  {
   "cell_type": "markdown",
   "metadata": {},
   "source": [
    "> Consider the relationship between brain volume (`brain`) and body mass (`body`) in the data(`Primates301`). These values are presented as single values for each species. However, there is always a range of sizes in a species, and some of these measurements are taken from very small samples. So these values are measured with some unknown error.\n",
    "\n",
    "> We don't have the raw measurements to work with—that would be best. But we can imagine what might happen if we had them. Suppose error is proportional to the measurement. This makes sense, because larger animals have larger variation. As a consequence, the uncertainty is not uniform across the values and this could mean trouble.\n",
    "\n",
    "> Let's make up some standard errors for these measurements, to see what might happen. Load the data and scale the the measurements so the maximum is 1 in both cases:"
   ]
  },
  {
   "cell_type": "code",
   "execution_count": 4,
   "metadata": {},
   "outputs": [
    {
     "data": {
      "text/html": [
       "<div>\n",
       "<style scoped>\n",
       "    .dataframe tbody tr th:only-of-type {\n",
       "        vertical-align: middle;\n",
       "    }\n",
       "\n",
       "    .dataframe tbody tr th {\n",
       "        vertical-align: top;\n",
       "    }\n",
       "\n",
       "    .dataframe thead th {\n",
       "        text-align: right;\n",
       "    }\n",
       "</style>\n",
       "<table border=\"1\" class=\"dataframe\">\n",
       "  <thead>\n",
       "    <tr style=\"text-align: right;\">\n",
       "      <th></th>\n",
       "      <th>name</th>\n",
       "      <th>genus</th>\n",
       "      <th>species</th>\n",
       "      <th>subspecies</th>\n",
       "      <th>spp_id</th>\n",
       "      <th>genus_id</th>\n",
       "      <th>social_learning</th>\n",
       "      <th>research_effort</th>\n",
       "      <th>brain</th>\n",
       "      <th>body</th>\n",
       "      <th>group_size</th>\n",
       "      <th>gestation</th>\n",
       "      <th>weaning</th>\n",
       "      <th>longevity</th>\n",
       "      <th>sex_maturity</th>\n",
       "      <th>maternal_investment</th>\n",
       "      <th>B</th>\n",
       "      <th>M</th>\n",
       "      <th>Bse</th>\n",
       "      <th>Mse</th>\n",
       "    </tr>\n",
       "  </thead>\n",
       "  <tbody>\n",
       "    <tr>\n",
       "      <th>0</th>\n",
       "      <td>Allenopithecus_nigroviridis</td>\n",
       "      <td>Allenopithecus</td>\n",
       "      <td>nigroviridis</td>\n",
       "      <td>NaN</td>\n",
       "      <td>1</td>\n",
       "      <td>1</td>\n",
       "      <td>0.0</td>\n",
       "      <td>6.0</td>\n",
       "      <td>58.02</td>\n",
       "      <td>4655.0</td>\n",
       "      <td>40.0</td>\n",
       "      <td>NaN</td>\n",
       "      <td>106.15</td>\n",
       "      <td>276.0</td>\n",
       "      <td>NaN</td>\n",
       "      <td>NaN</td>\n",
       "      <td>0.118102</td>\n",
       "      <td>0.035808</td>\n",
       "      <td>0.011810</td>\n",
       "      <td>0.003581</td>\n",
       "    </tr>\n",
       "    <tr>\n",
       "      <th>2</th>\n",
       "      <td>Alouatta_belzebul</td>\n",
       "      <td>Alouatta</td>\n",
       "      <td>belzebul</td>\n",
       "      <td>NaN</td>\n",
       "      <td>3</td>\n",
       "      <td>3</td>\n",
       "      <td>0.0</td>\n",
       "      <td>15.0</td>\n",
       "      <td>52.84</td>\n",
       "      <td>6395.0</td>\n",
       "      <td>7.4</td>\n",
       "      <td>NaN</td>\n",
       "      <td>NaN</td>\n",
       "      <td>NaN</td>\n",
       "      <td>NaN</td>\n",
       "      <td>NaN</td>\n",
       "      <td>0.107558</td>\n",
       "      <td>0.049192</td>\n",
       "      <td>0.010756</td>\n",
       "      <td>0.004919</td>\n",
       "    </tr>\n",
       "    <tr>\n",
       "      <th>3</th>\n",
       "      <td>Alouatta_caraya</td>\n",
       "      <td>Alouatta</td>\n",
       "      <td>caraya</td>\n",
       "      <td>NaN</td>\n",
       "      <td>4</td>\n",
       "      <td>3</td>\n",
       "      <td>0.0</td>\n",
       "      <td>45.0</td>\n",
       "      <td>52.63</td>\n",
       "      <td>5383.0</td>\n",
       "      <td>8.9</td>\n",
       "      <td>185.92</td>\n",
       "      <td>323.16</td>\n",
       "      <td>243.6</td>\n",
       "      <td>1276.72</td>\n",
       "      <td>509.08</td>\n",
       "      <td>0.107130</td>\n",
       "      <td>0.041408</td>\n",
       "      <td>0.010713</td>\n",
       "      <td>0.004141</td>\n",
       "    </tr>\n",
       "    <tr>\n",
       "      <th>4</th>\n",
       "      <td>Alouatta_guariba</td>\n",
       "      <td>Alouatta</td>\n",
       "      <td>guariba</td>\n",
       "      <td>NaN</td>\n",
       "      <td>5</td>\n",
       "      <td>3</td>\n",
       "      <td>0.0</td>\n",
       "      <td>37.0</td>\n",
       "      <td>51.70</td>\n",
       "      <td>5175.0</td>\n",
       "      <td>7.4</td>\n",
       "      <td>NaN</td>\n",
       "      <td>NaN</td>\n",
       "      <td>NaN</td>\n",
       "      <td>NaN</td>\n",
       "      <td>NaN</td>\n",
       "      <td>0.105237</td>\n",
       "      <td>0.039808</td>\n",
       "      <td>0.010524</td>\n",
       "      <td>0.003981</td>\n",
       "    </tr>\n",
       "    <tr>\n",
       "      <th>5</th>\n",
       "      <td>Alouatta_palliata</td>\n",
       "      <td>Alouatta</td>\n",
       "      <td>palliata</td>\n",
       "      <td>NaN</td>\n",
       "      <td>6</td>\n",
       "      <td>3</td>\n",
       "      <td>3.0</td>\n",
       "      <td>79.0</td>\n",
       "      <td>49.88</td>\n",
       "      <td>6250.0</td>\n",
       "      <td>13.1</td>\n",
       "      <td>185.42</td>\n",
       "      <td>495.60</td>\n",
       "      <td>300.0</td>\n",
       "      <td>1578.42</td>\n",
       "      <td>681.02</td>\n",
       "      <td>0.101533</td>\n",
       "      <td>0.048077</td>\n",
       "      <td>0.010153</td>\n",
       "      <td>0.004808</td>\n",
       "    </tr>\n",
       "  </tbody>\n",
       "</table>\n",
       "</div>"
      ],
      "text/plain": [
       "                          name           genus       species subspecies  \\\n",
       "0  Allenopithecus_nigroviridis  Allenopithecus  nigroviridis        NaN   \n",
       "2            Alouatta_belzebul        Alouatta      belzebul        NaN   \n",
       "3              Alouatta_caraya        Alouatta        caraya        NaN   \n",
       "4             Alouatta_guariba        Alouatta       guariba        NaN   \n",
       "5            Alouatta_palliata        Alouatta      palliata        NaN   \n",
       "\n",
       "   spp_id  genus_id  social_learning  research_effort  brain    body  \\\n",
       "0       1         1              0.0              6.0  58.02  4655.0   \n",
       "2       3         3              0.0             15.0  52.84  6395.0   \n",
       "3       4         3              0.0             45.0  52.63  5383.0   \n",
       "4       5         3              0.0             37.0  51.70  5175.0   \n",
       "5       6         3              3.0             79.0  49.88  6250.0   \n",
       "\n",
       "   group_size  gestation  weaning  longevity  sex_maturity  \\\n",
       "0        40.0        NaN   106.15      276.0           NaN   \n",
       "2         7.4        NaN      NaN        NaN           NaN   \n",
       "3         8.9     185.92   323.16      243.6       1276.72   \n",
       "4         7.4        NaN      NaN        NaN           NaN   \n",
       "5        13.1     185.42   495.60      300.0       1578.42   \n",
       "\n",
       "   maternal_investment         B         M       Bse       Mse  \n",
       "0                  NaN  0.118102  0.035808  0.011810  0.003581  \n",
       "2                  NaN  0.107558  0.049192  0.010756  0.004919  \n",
       "3               509.08  0.107130  0.041408  0.010713  0.004141  \n",
       "4                  NaN  0.105237  0.039808  0.010524  0.003981  \n",
       "5               681.02  0.101533  0.048077  0.010153  0.004808  "
      ]
     },
     "execution_count": 4,
     "metadata": {},
     "output_type": "execute_result"
    }
   ],
   "source": [
    "d = pd.read_csv('./dat/Primates301.csv', header=0, sep=';')\n",
    "d.dropna(subset=['brain','body'], inplace=True)\n",
    "d['B'] = d['brain']/d['brain'].max()\n",
    "d['M'] = d['body']/d['body'].max()\n",
    "d['Bse'] = d['B']*0.1\n",
    "d['Mse'] = d['M']*0.1\n",
    "d.head()"
   ]
  },
  {
   "cell_type": "markdown",
   "metadata": {},
   "source": [
    "Now I'll make up some standard errors for B and M, assuming error is 10% of the measurement. Ignoring measurement error, the corresponding `numpyro` model is:"
   ]
  },
  {
   "cell_type": "code",
   "execution_count": 5,
   "metadata": {},
   "outputs": [],
   "source": [
    "def model(M, B=None):\n",
    "    # priors\n",
    "    a = numpyro.sample('a', dist.Normal(0,1))\n",
    "    b = numpyro.sample('b', dist.Normal(0,0.5))\n",
    "    sigma = numpyro.sample('sigma', dist.Exponential(1))\n",
    "    # likelihood\n",
    "    mu = a + b*jnp.log(M)\n",
    "    numpyro.sample('B_hat', dist.LogNormal(mu, sigma), obs=B)"
   ]
  },
  {
   "cell_type": "code",
   "execution_count": 6,
   "metadata": {},
   "outputs": [
    {
     "name": "stderr",
     "output_type": "stream",
     "text": [
      "sample: 100%|██████████| 1000/1000 [00:07<00:00, 134.02it/s, 7 steps of size 2.61e-01. acc. prob=0.95]\n",
      "sample: 100%|██████████| 1000/1000 [00:01<00:00, 529.98it/s, 5 steps of size 2.64e-01. acc. prob=0.94]\n",
      "sample: 100%|██████████| 1000/1000 [00:01<00:00, 531.52it/s, 5 steps of size 3.43e-01. acc. prob=0.91]\n",
      "sample: 100%|██████████| 1000/1000 [00:02<00:00, 386.31it/s, 3 steps of size 3.02e-01. acc. prob=0.91]\n"
     ]
    }
   ],
   "source": [
    "kernel = NUTS(model)\n",
    "mcmc = MCMC(kernel, num_warmup=500, num_samples=500, num_chains=4, chain_method='sequential')\n",
    "mcmc.run(rng_key, M=d.M.values, B=d.B.values)"
   ]
  },
  {
   "cell_type": "code",
   "execution_count": 7,
   "metadata": {},
   "outputs": [
    {
     "data": {
      "text/html": [
       "<div>\n",
       "<style scoped>\n",
       "    .dataframe tbody tr th:only-of-type {\n",
       "        vertical-align: middle;\n",
       "    }\n",
       "\n",
       "    .dataframe tbody tr th {\n",
       "        vertical-align: top;\n",
       "    }\n",
       "\n",
       "    .dataframe thead th {\n",
       "        text-align: right;\n",
       "    }\n",
       "</style>\n",
       "<table border=\"1\" class=\"dataframe\">\n",
       "  <thead>\n",
       "    <tr style=\"text-align: right;\">\n",
       "      <th></th>\n",
       "      <th>mean</th>\n",
       "      <th>sd</th>\n",
       "      <th>hdi_3%</th>\n",
       "      <th>hdi_97%</th>\n",
       "      <th>mcse_mean</th>\n",
       "      <th>mcse_sd</th>\n",
       "      <th>ess_bulk</th>\n",
       "      <th>ess_tail</th>\n",
       "      <th>r_hat</th>\n",
       "    </tr>\n",
       "  </thead>\n",
       "  <tbody>\n",
       "    <tr>\n",
       "      <th>a</th>\n",
       "      <td>0.427</td>\n",
       "      <td>0.059</td>\n",
       "      <td>0.315</td>\n",
       "      <td>0.538</td>\n",
       "      <td>0.002</td>\n",
       "      <td>0.001</td>\n",
       "      <td>884.0</td>\n",
       "      <td>818.0</td>\n",
       "      <td>1.01</td>\n",
       "    </tr>\n",
       "    <tr>\n",
       "      <th>b</th>\n",
       "      <td>0.783</td>\n",
       "      <td>0.014</td>\n",
       "      <td>0.755</td>\n",
       "      <td>0.810</td>\n",
       "      <td>0.000</td>\n",
       "      <td>0.000</td>\n",
       "      <td>884.0</td>\n",
       "      <td>635.0</td>\n",
       "      <td>1.01</td>\n",
       "    </tr>\n",
       "    <tr>\n",
       "      <th>sigma</th>\n",
       "      <td>0.293</td>\n",
       "      <td>0.015</td>\n",
       "      <td>0.264</td>\n",
       "      <td>0.322</td>\n",
       "      <td>0.000</td>\n",
       "      <td>0.000</td>\n",
       "      <td>1014.0</td>\n",
       "      <td>1033.0</td>\n",
       "      <td>1.00</td>\n",
       "    </tr>\n",
       "  </tbody>\n",
       "</table>\n",
       "</div>"
      ],
      "text/plain": [
       "        mean     sd  hdi_3%  hdi_97%  mcse_mean  mcse_sd  ess_bulk  ess_tail  \\\n",
       "a      0.427  0.059   0.315    0.538      0.002    0.001     884.0     818.0   \n",
       "b      0.783  0.014   0.755    0.810      0.000    0.000     884.0     635.0   \n",
       "sigma  0.293  0.015   0.264    0.322      0.000    0.000    1014.0    1033.0   \n",
       "\n",
       "       r_hat  \n",
       "a       1.01  \n",
       "b       1.01  \n",
       "sigma   1.00  "
      ]
     },
     "execution_count": 7,
     "metadata": {},
     "output_type": "execute_result"
    }
   ],
   "source": [
    "samples_11 = az.from_numpyro(mcmc)\n",
    "az.summary(samples_11, var_names=['a','b', 'sigma'])"
   ]
  },
  {
   "cell_type": "markdown",
   "metadata": {},
   "source": [
    "Your job is to add the measurement errors to this model. Use the divorce/marriage example in the chapter as a guide. It might help to initialize the unobserved true values of `B` and `M` using the observed values. This is done declaring staring values with the help of `init_strategy` parameter."
   ]
  },
  {
   "cell_type": "code",
   "execution_count": 8,
   "metadata": {},
   "outputs": [],
   "source": [
    "def model(M, B, Bse, Mse):\n",
    "    # priors\n",
    "    a = numpyro.sample('a', dist.Normal(0,1))\n",
    "    b = numpyro.sample('b', dist.Normal(0,1))\n",
    "    sigma = numpyro.sample('sigma', dist.Exponential(1))\n",
    "    # likelihood true values\n",
    "    n = len(M)\n",
    "    M_true = numpyro.sample('M_true', dist.HalfNormal(0.5,1), sample_shape=(n,))\n",
    "    mu = a + b*jnp.log(M_true)\n",
    "    B_true = numpyro.sample('B_true', dist.LogNormal(mu,sigma), sample_shape=(n,))\n",
    "    # likelihood observed values\n",
    "    B_obs = numpyro.sample('B_obs', dist.Normal(B_true, Bse), obs=B)\n",
    "    M_obs = numpyro.sample('M_obs', dist.Normal(M_true, Mse), obs=M)"
   ]
  },
  {
   "cell_type": "code",
   "execution_count": 9,
   "metadata": {},
   "outputs": [
    {
     "name": "stderr",
     "output_type": "stream",
     "text": [
      "sample: 100%|██████████| 1000/1000 [00:08<00:00, 115.96it/s, 15 steps of size 2.31e-01. acc. prob=0.90]\n",
      "sample: 100%|██████████| 1000/1000 [00:02<00:00, 341.88it/s, 15 steps of size 2.37e-01. acc. prob=0.90]\n",
      "sample: 100%|██████████| 1000/1000 [00:02<00:00, 370.45it/s, 15 steps of size 2.63e-01. acc. prob=0.86]\n",
      "sample: 100%|██████████| 1000/1000 [00:02<00:00, 399.57it/s, 15 steps of size 2.66e-01. acc. prob=0.87] \n"
     ]
    }
   ],
   "source": [
    "start = {'M_true':d.M.values, 'B_true':d.B.values}\n",
    "kernel = NUTS(model, init_strategy=init_to_value(values=start))\n",
    "mcmc = MCMC(kernel, num_warmup=500, num_samples=500, num_chains=4, chain_method='sequential')\n",
    "dat = {k:v.to_numpy() for k,v in d[['M','B','Bse','Mse']].items()}\n",
    "mcmc.run(rng_key, **dat)"
   ]
  },
  {
   "cell_type": "code",
   "execution_count": 10,
   "metadata": {},
   "outputs": [
    {
     "data": {
      "text/html": [
       "<div>\n",
       "<style scoped>\n",
       "    .dataframe tbody tr th:only-of-type {\n",
       "        vertical-align: middle;\n",
       "    }\n",
       "\n",
       "    .dataframe tbody tr th {\n",
       "        vertical-align: top;\n",
       "    }\n",
       "\n",
       "    .dataframe thead th {\n",
       "        text-align: right;\n",
       "    }\n",
       "</style>\n",
       "<table border=\"1\" class=\"dataframe\">\n",
       "  <thead>\n",
       "    <tr style=\"text-align: right;\">\n",
       "      <th></th>\n",
       "      <th>mean</th>\n",
       "      <th>sd</th>\n",
       "      <th>hdi_3%</th>\n",
       "      <th>hdi_97%</th>\n",
       "      <th>mcse_mean</th>\n",
       "      <th>mcse_sd</th>\n",
       "      <th>ess_bulk</th>\n",
       "      <th>ess_tail</th>\n",
       "      <th>r_hat</th>\n",
       "    </tr>\n",
       "  </thead>\n",
       "  <tbody>\n",
       "    <tr>\n",
       "      <th>a</th>\n",
       "      <td>0.421</td>\n",
       "      <td>0.060</td>\n",
       "      <td>0.318</td>\n",
       "      <td>0.539</td>\n",
       "      <td>0.002</td>\n",
       "      <td>0.001</td>\n",
       "      <td>1030.0</td>\n",
       "      <td>1395.0</td>\n",
       "      <td>1.0</td>\n",
       "    </tr>\n",
       "    <tr>\n",
       "      <th>b</th>\n",
       "      <td>0.784</td>\n",
       "      <td>0.014</td>\n",
       "      <td>0.758</td>\n",
       "      <td>0.811</td>\n",
       "      <td>0.000</td>\n",
       "      <td>0.000</td>\n",
       "      <td>1053.0</td>\n",
       "      <td>1468.0</td>\n",
       "      <td>1.0</td>\n",
       "    </tr>\n",
       "    <tr>\n",
       "      <th>sigma</th>\n",
       "      <td>0.262</td>\n",
       "      <td>0.017</td>\n",
       "      <td>0.230</td>\n",
       "      <td>0.293</td>\n",
       "      <td>0.000</td>\n",
       "      <td>0.000</td>\n",
       "      <td>1917.0</td>\n",
       "      <td>1365.0</td>\n",
       "      <td>1.0</td>\n",
       "    </tr>\n",
       "  </tbody>\n",
       "</table>\n",
       "</div>"
      ],
      "text/plain": [
       "        mean     sd  hdi_3%  hdi_97%  mcse_mean  mcse_sd  ess_bulk  ess_tail  \\\n",
       "a      0.421  0.060   0.318    0.539      0.002    0.001    1030.0    1395.0   \n",
       "b      0.784  0.014   0.758    0.811      0.000    0.000    1053.0    1468.0   \n",
       "sigma  0.262  0.017   0.230    0.293      0.000    0.000    1917.0    1365.0   \n",
       "\n",
       "       r_hat  \n",
       "a        1.0  \n",
       "b        1.0  \n",
       "sigma    1.0  "
      ]
     },
     "execution_count": 10,
     "metadata": {},
     "output_type": "execute_result"
    }
   ],
   "source": [
    "samples_12 = az.from_numpyro(mcmc)\n",
    "az.summary(samples_12, var_names=['a','b', 'sigma'])"
   ]
  },
  {
   "cell_type": "markdown",
   "metadata": {},
   "source": [
    "For now, notice that the posterior distributions of a and b are nearly identical to model_11. Adding measurement error hasn't changed a thing! Let's plot the regression against the observed values. The orange points are the posterior mean estimates. Notice that they have moved towards the regression line, as you'd expect. But even the outlier gorillas haven't moved much. The assumed error just isn't big enough to get them any closer. If you increase the amount of error, you can get all of the species to fall right on the regression line. Try for example 30% error. The model will mix poorly, but take a look at the inferred true values. The truth of this example is that there are just so many small primates that they dominate the relationship. And their measurement errors are also smaller (in absolute terms). So adding plausible amounts of measurement error here doesn't make a big difference. We still don't have a good explanation for gorillas."
   ]
  },
  {
   "cell_type": "code",
   "execution_count": 11,
   "metadata": {},
   "outputs": [],
   "source": [
    "smp_12 = samples_12.posterior.mean(dim='draw').mean(dim='chain')\n",
    "d['B_true'] = smp_12.B_true\n",
    "d['M_true'] = smp_12.M_true\n",
    "\n",
    "aux = pd.DataFrame()\n",
    "aux['x'] = np.arange(len(d))/len(d)\n",
    "aux['avg_curve'] = np.exp(smp_12.a.values)*aux['x']**(smp_12.b.values)"
   ]
  },
  {
   "cell_type": "code",
   "execution_count": 12,
   "metadata": {},
   "outputs": [
    {
     "data": {
      "image/png": "[encoded data removed]",
      "text/plain": [
       "<Figure size 432x288 with 1 Axes>"
      ]
     },
     "metadata": {},
     "output_type": "display_data"
    }
   ],
   "source": [
    "sns.scatterplot(data=d, x='M', y='B')\n",
    "sns.scatterplot(data=d, x='M_true', y='B_true')\n",
    "ax = sns.lineplot(data=aux, x='x', y='avg_curve', color='k')\n",
    "ax.set(xlabel='body mass', ylabel='brain volume')\n",
    "ax.legend(['average', 'observed', 'true']);"
   ]
  },
  {
   "cell_type": "markdown",
   "metadata": {},
   "source": [
    "## Exercise 2"
   ]
  },
  {
   "cell_type": "markdown",
   "metadata": {},
   "source": [
    "> Now consider missing values, this data set is lousy with them. You can ignore measurement error in this problem. Let's get a quick idea of the missing values by counting them in each variable:"
   ]
  },
  {
   "cell_type": "code",
   "execution_count": 13,
   "metadata": {},
   "outputs": [
    {
     "data": {
      "text/plain": [
       "name                     0\n",
       "genus                    0\n",
       "species                  0\n",
       "subspecies             267\n",
       "spp_id                   0\n",
       "genus_id                 0\n",
       "social_learning         98\n",
       "research_effort        115\n",
       "brain                  117\n",
       "body                    63\n",
       "group_size             114\n",
       "gestation              161\n",
       "weaning                185\n",
       "longevity              181\n",
       "sex_maturity           194\n",
       "maternal_investment    197\n",
       "dtype: int64"
      ]
     },
     "execution_count": 13,
     "metadata": {},
     "output_type": "execute_result"
    }
   ],
   "source": [
    "d = pd.read_csv('./dat/Primates301.csv', header=0, sep=';')\n",
    "d.isna().sum()"
   ]
  },
  {
   "cell_type": "markdown",
   "metadata": {},
   "source": [
    "We’ll continue to focus on just brain and body, to stave off insanity. Consider only those species with measured body masses:"
   ]
  },
  {
   "cell_type": "code",
   "execution_count": 14,
   "metadata": {},
   "outputs": [
    {
     "data": {
      "text/plain": [
       "name                     0\n",
       "genus                    0\n",
       "species                  0\n",
       "subspecies             223\n",
       "spp_id                   0\n",
       "genus_id                 0\n",
       "social_learning         39\n",
       "research_effort         53\n",
       "brain                   56\n",
       "body                     0\n",
       "group_size              52\n",
       "gestation               98\n",
       "weaning                122\n",
       "longevity              118\n",
       "sex_maturity           131\n",
       "maternal_investment    134\n",
       "B                       56\n",
       "M                        0\n",
       "dtype: int64"
      ]
     },
     "execution_count": 14,
     "metadata": {},
     "output_type": "execute_result"
    }
   ],
   "source": [
    "d.dropna(subset=['body'], inplace=True)\n",
    "d['B'] = d.brain/d.brain.max()\n",
    "d['M'] = d.body/d.body.max()\n",
    "d.isna().sum()"
   ]
  },
  {
   "cell_type": "markdown",
   "metadata": {},
   "source": [
    "First, consider whether there is a pattern to the missing values. Does it look like\n",
    "missing values are associated with particular values of body mass? Draw a DAG that\n",
    "represents how missingness works in this case. Which type (MCAR, MAR, MNAR)\n",
    "is this? Compare the inferences to an analysis that drops all the missing values. Has anything changed? Why or why not? Hint: Consider the density of data in the ranges where there are missing values. You might want to plot the imputed brain sizes together with the observed values.\n",
    "\n",
    "Looks like the missing brain values are almost all for small bodied species. This implies at least a MAR (dog eats students homework) mechanism. Let's try a DAG to express it. `M` here is body mass, `B` (unobserved, suggested by the circle) is brain size, R_B is the missingness mechanism, and `B*` is the observed brain sizes (with missing values). The arrow from `M` to `R_B` indicates that body size influences missingness. In this case, it would imply that small body size makes a missing brain value more likely. \n",
    "\n",
    "<img src=\"./fig/w10_img1.png\" width=\"20%\">"
   ]
  },
  {
   "cell_type": "markdown",
   "metadata": {},
   "source": [
    "Now let's do some imputation. Remember that the model for imputation is really no different than an ordinary model. It just needs a prior for any variable with missing values. In this case, the missing values are in the outcome, so the likelihood is the prior we need. So the model doesn't change at all."
   ]
  },
  {
   "cell_type": "code",
   "execution_count": 15,
   "metadata": {},
   "outputs": [],
   "source": [
    "def model(M, B=None):\n",
    "    # priors\n",
    "    a = numpyro.sample('a', dist.Normal(0,1))\n",
    "    b = numpyro.sample('b', dist.Normal(0,1))\n",
    "    sigma = numpyro.sample('sigma', dist.Exponential(1))\n",
    "    # likelihood\n",
    "    mu = a + b*jnp.log(M)\n",
    "    B_naix = np.argwhere(np.isnan(B)).flatten()\n",
    "    B_impute = numpyro.sample('B_impute', dist.LogNormal(mu[B_naix],sigma))\n",
    "    B = ops.index_update(B, B_naix, B_impute)\n",
    "    numpyro.sample('B_hat', dist.LogNormal(mu,sigma), obs=B)"
   ]
  },
  {
   "cell_type": "code",
   "execution_count": 16,
   "metadata": {},
   "outputs": [
    {
     "name": "stderr",
     "output_type": "stream",
     "text": [
      "sample: 100%|██████████| 1000/1000 [00:08<00:00, 117.50it/s, 15 steps of size 2.34e-01. acc. prob=0.91]\n",
      "sample: 100%|██████████| 1000/1000 [00:01<00:00, 539.88it/s, 31 steps of size 1.86e-01. acc. prob=0.93]\n",
      "sample: 100%|██████████| 1000/1000 [00:02<00:00, 475.72it/s, 15 steps of size 1.90e-01. acc. prob=0.93]\n",
      "sample: 100%|██████████| 1000/1000 [00:01<00:00, 550.72it/s, 15 steps of size 2.10e-01. acc. prob=0.93]\n"
     ]
    }
   ],
   "source": [
    "kernel = NUTS(model)\n",
    "mcmc = MCMC(kernel, num_warmup=500, num_samples=500, num_chains=4, chain_method='sequential')\n",
    "mcmc.run(rng_key, M=d.M.values, B=d.B.values)"
   ]
  },
  {
   "cell_type": "code",
   "execution_count": 17,
   "metadata": {},
   "outputs": [
    {
     "data": {
      "text/html": [
       "<div>\n",
       "<style scoped>\n",
       "    .dataframe tbody tr th:only-of-type {\n",
       "        vertical-align: middle;\n",
       "    }\n",
       "\n",
       "    .dataframe tbody tr th {\n",
       "        vertical-align: top;\n",
       "    }\n",
       "\n",
       "    .dataframe thead th {\n",
       "        text-align: right;\n",
       "    }\n",
       "</style>\n",
       "<table border=\"1\" class=\"dataframe\">\n",
       "  <thead>\n",
       "    <tr style=\"text-align: right;\">\n",
       "      <th></th>\n",
       "      <th>mean</th>\n",
       "      <th>sd</th>\n",
       "      <th>hdi_3%</th>\n",
       "      <th>hdi_97%</th>\n",
       "      <th>mcse_mean</th>\n",
       "      <th>mcse_sd</th>\n",
       "      <th>ess_bulk</th>\n",
       "      <th>ess_tail</th>\n",
       "      <th>r_hat</th>\n",
       "    </tr>\n",
       "  </thead>\n",
       "  <tbody>\n",
       "    <tr>\n",
       "      <th>a</th>\n",
       "      <td>0.433</td>\n",
       "      <td>0.048</td>\n",
       "      <td>0.346</td>\n",
       "      <td>0.523</td>\n",
       "      <td>0.001</td>\n",
       "      <td>0.001</td>\n",
       "      <td>1380.0</td>\n",
       "      <td>1378.0</td>\n",
       "      <td>1.0</td>\n",
       "    </tr>\n",
       "    <tr>\n",
       "      <th>b</th>\n",
       "      <td>0.790</td>\n",
       "      <td>0.012</td>\n",
       "      <td>0.766</td>\n",
       "      <td>0.812</td>\n",
       "      <td>0.000</td>\n",
       "      <td>0.000</td>\n",
       "      <td>1258.0</td>\n",
       "      <td>1342.0</td>\n",
       "      <td>1.0</td>\n",
       "    </tr>\n",
       "    <tr>\n",
       "      <th>sigma</th>\n",
       "      <td>0.257</td>\n",
       "      <td>0.012</td>\n",
       "      <td>0.234</td>\n",
       "      <td>0.279</td>\n",
       "      <td>0.000</td>\n",
       "      <td>0.000</td>\n",
       "      <td>1861.0</td>\n",
       "      <td>1360.0</td>\n",
       "      <td>1.0</td>\n",
       "    </tr>\n",
       "  </tbody>\n",
       "</table>\n",
       "</div>"
      ],
      "text/plain": [
       "        mean     sd  hdi_3%  hdi_97%  mcse_mean  mcse_sd  ess_bulk  ess_tail  \\\n",
       "a      0.433  0.048   0.346    0.523      0.001    0.001    1380.0    1378.0   \n",
       "b      0.790  0.012   0.766    0.812      0.000    0.000    1258.0    1342.0   \n",
       "sigma  0.257  0.012   0.234    0.279      0.000    0.000    1861.0    1360.0   \n",
       "\n",
       "       r_hat  \n",
       "a        1.0  \n",
       "b        1.0  \n",
       "sigma    1.0  "
      ]
     },
     "execution_count": 17,
     "metadata": {},
     "output_type": "execute_result"
    }
   ],
   "source": [
    "samples_21 = az.from_numpyro(mcmc)\n",
    "az.summary(samples_21, var_names=['a','b', 'sigma'])"
   ]
  },
  {
   "cell_type": "markdown",
   "metadata": {},
   "source": [
    "The same analysis on only complete cases:"
   ]
  },
  {
   "cell_type": "code",
   "execution_count": 18,
   "metadata": {},
   "outputs": [],
   "source": [
    "d = pd.read_csv('./dat/Primates301.csv', header=0, sep=';')\n",
    "d.dropna(subset=['body', 'brain'], inplace=True)\n",
    "d['B'] = d.brain/d.brain.max()\n",
    "d['M'] = d.body/d.body.max()"
   ]
  },
  {
   "cell_type": "code",
   "execution_count": 19,
   "metadata": {},
   "outputs": [],
   "source": [
    "def model(M, B=None):\n",
    "    # priors\n",
    "    a = numpyro.sample('a', dist.Normal(0,1))\n",
    "    b = numpyro.sample('b', dist.Normal(0,1))\n",
    "    sigma = numpyro.sample('sigma', dist.Exponential(1))\n",
    "    # likelihood\n",
    "    mu = a + b*jnp.log(M)\n",
    "    numpyro.sample('B_hat', dist.LogNormal(mu,sigma), obs=B)"
   ]
  },
  {
   "cell_type": "code",
   "execution_count": 20,
   "metadata": {},
   "outputs": [
    {
     "name": "stderr",
     "output_type": "stream",
     "text": [
      "sample: 100%|██████████| 1000/1000 [00:05<00:00, 166.91it/s, 7 steps of size 2.93e-01. acc. prob=0.94]\n",
      "sample: 100%|██████████| 1000/1000 [00:01<00:00, 563.10it/s, 3 steps of size 2.65e-01. acc. prob=0.94]\n",
      "sample: 100%|██████████| 1000/1000 [00:01<00:00, 519.53it/s, 3 steps of size 2.04e-01. acc. prob=0.96]\n",
      "sample: 100%|██████████| 1000/1000 [00:02<00:00, 444.61it/s, 7 steps of size 3.11e-01. acc. prob=0.89]\n"
     ]
    }
   ],
   "source": [
    "kernel = NUTS(model)\n",
    "mcmc = MCMC(kernel, num_warmup=500, num_samples=500, num_chains=4, chain_method='sequential')\n",
    "mcmc.run(rng_key, M=d.M.values, B=d.B.values)"
   ]
  },
  {
   "cell_type": "code",
   "execution_count": 21,
   "metadata": {},
   "outputs": [
    {
     "data": {
      "text/html": [
       "<div>\n",
       "<style scoped>\n",
       "    .dataframe tbody tr th:only-of-type {\n",
       "        vertical-align: middle;\n",
       "    }\n",
       "\n",
       "    .dataframe tbody tr th {\n",
       "        vertical-align: top;\n",
       "    }\n",
       "\n",
       "    .dataframe thead th {\n",
       "        text-align: right;\n",
       "    }\n",
       "</style>\n",
       "<table border=\"1\" class=\"dataframe\">\n",
       "  <thead>\n",
       "    <tr style=\"text-align: right;\">\n",
       "      <th></th>\n",
       "      <th>mean</th>\n",
       "      <th>sd</th>\n",
       "      <th>hdi_3%</th>\n",
       "      <th>hdi_97%</th>\n",
       "      <th>mcse_mean</th>\n",
       "      <th>mcse_sd</th>\n",
       "      <th>ess_bulk</th>\n",
       "      <th>ess_tail</th>\n",
       "      <th>r_hat</th>\n",
       "    </tr>\n",
       "  </thead>\n",
       "  <tbody>\n",
       "    <tr>\n",
       "      <th>a</th>\n",
       "      <td>0.427</td>\n",
       "      <td>0.057</td>\n",
       "      <td>0.315</td>\n",
       "      <td>0.536</td>\n",
       "      <td>0.002</td>\n",
       "      <td>0.001</td>\n",
       "      <td>880.0</td>\n",
       "      <td>620.0</td>\n",
       "      <td>1.01</td>\n",
       "    </tr>\n",
       "    <tr>\n",
       "      <th>b</th>\n",
       "      <td>0.783</td>\n",
       "      <td>0.014</td>\n",
       "      <td>0.758</td>\n",
       "      <td>0.811</td>\n",
       "      <td>0.000</td>\n",
       "      <td>0.000</td>\n",
       "      <td>926.0</td>\n",
       "      <td>942.0</td>\n",
       "      <td>1.00</td>\n",
       "    </tr>\n",
       "    <tr>\n",
       "      <th>sigma</th>\n",
       "      <td>0.294</td>\n",
       "      <td>0.016</td>\n",
       "      <td>0.266</td>\n",
       "      <td>0.323</td>\n",
       "      <td>0.000</td>\n",
       "      <td>0.000</td>\n",
       "      <td>1045.0</td>\n",
       "      <td>1026.0</td>\n",
       "      <td>1.00</td>\n",
       "    </tr>\n",
       "  </tbody>\n",
       "</table>\n",
       "</div>"
      ],
      "text/plain": [
       "        mean     sd  hdi_3%  hdi_97%  mcse_mean  mcse_sd  ess_bulk  ess_tail  \\\n",
       "a      0.427  0.057   0.315    0.536      0.002    0.001     880.0     620.0   \n",
       "b      0.783  0.014   0.758    0.811      0.000    0.000     926.0     942.0   \n",
       "sigma  0.294  0.016   0.266    0.323      0.000    0.000    1045.0    1026.0   \n",
       "\n",
       "       r_hat  \n",
       "a       1.01  \n",
       "b       1.00  \n",
       "sigma   1.00  "
      ]
     },
     "execution_count": 21,
     "metadata": {},
     "output_type": "execute_result"
    }
   ],
   "source": [
    "samples_22 = az.from_numpyro(mcmc)\n",
    "az.summary(samples_22, var_names=['a','b', 'sigma'])"
   ]
  },
  {
   "cell_type": "markdown",
   "metadata": {},
   "source": [
    "Really no difference from before. Let's plot the imputed values:"
   ]
  },
  {
   "cell_type": "code",
   "execution_count": 22,
   "metadata": {},
   "outputs": [],
   "source": [
    "d = pd.read_csv('././dat/Primates301.csv', header=0, sep=';')\n",
    "d.dropna(subset=['body'], inplace=True)\n",
    "d['B'] = d['brain']/np.max(d['brain'])\n",
    "d['M'] = d['body']/np.max(d['body'])\n",
    "\n",
    "naix = np.isnan(d.B)\n",
    "di = d[naix][['B','M']].copy()\n",
    "b_hat = samples_21.posterior.mean(dim='chain').mean(dim='draw').B_impute.values\n",
    "di.B = b_hat"
   ]
  },
  {
   "cell_type": "code",
   "execution_count": 23,
   "metadata": {},
   "outputs": [
    {
     "data": {
      "image/png": "[encoded data removed]",
      "text/plain": [
       "<Figure size 432x288 with 1 Axes>"
      ]
     },
     "metadata": {},
     "output_type": "display_data"
    }
   ],
   "source": [
    "sns.scatterplot(data=d, x='M', y='B')\n",
    "ax = sns.scatterplot(data=di, x='M', y='B')\n",
    "ax.set(xlabel='body mass', ylabel='brain volume')\n",
    "ax.legend(['observed', 'imputed']);"
   ]
  },
  {
   "cell_type": "markdown",
   "metadata": {},
   "source": [
    "Orange open points are the mean imputed values. Imputation hasn't done much, apparently because all but one of the missing values are in a very dense region of the body size range. So almost no information was lost, the missing info is redundant."
   ]
  }
 ],
 "metadata": {
  "kernelspec": {
   "display_name": "Python 3",
   "language": "python",
   "name": "python3"
  },
  "language_info": {
   "codemirror_mode": {
    "name": "ipython",
    "version": 3
   },
   "file_extension": ".py",
   "mimetype": "text/x-python",
   "name": "python",
   "nbconvert_exporter": "python",
   "pygments_lexer": "ipython3",
   "version": "3.9.1"
  }
 },
 "nbformat": 4,
 "nbformat_minor": 4
}
