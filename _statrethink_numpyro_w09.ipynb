{
 "cells": [
  {
   "cell_type": "markdown",
   "metadata": {},
   "source": [
    "# Rethinking Statistics course in NumPyro - Week 9"
   ]
  },
  {
   "cell_type": "markdown",
   "metadata": {},
   "source": [
    "Lecture 17: Adventures in Covariance\n",
    "\n",
    "- [Video](https://www.youtube.com/watch?v=yfXpjmWgyXU)\n",
    "- [Slides](https://speakerdeck.com/rmcelreath/l17-statistical-rethinking-winter-2019)\n",
    "\n",
    "Lecture 18: Slopes, Instruments and Social Relations\n",
    "\n",
    "- [Video](https://www.youtube.com/watch?v=e5cgiAGBKzI)\n",
    "- [Slides](https://speakerdeck.com/rmcelreath/l18-statistical-rethinking-winter-2019)\n",
    "\n",
    "[Proposed problems](https://github.com/gbosquechacon/statrethinking_winter2019/blob/master/homework/week09.pdf) and [solutions in R](https://github.com/gbosquechacon/statrethinking_winter2019/blob/master/homework/week09_solutions.pdf) for the exercises of the week."
   ]
  },
  {
   "cell_type": "code",
   "execution_count": 1,
   "metadata": {},
   "outputs": [],
   "source": [
    "import pandas as pd\n",
    "import numpy as np\n",
    "\n",
    "import jax.numpy as jnp\n",
    "from jax import random\n",
    "from jax.scipy.special import expit as logistic\n",
    "import numpyro\n",
    "from numpyro.infer import NUTS, MCMC, Predictive\n",
    "import numpyro.distributions as dist\n",
    "\n",
    "import seaborn as sns\n",
    "import arviz as az"
   ]
  },
  {
   "cell_type": "code",
   "execution_count": 2,
   "metadata": {},
   "outputs": [
    {
     "name": "stdout",
     "output_type": "stream",
     "text": [
      "Last updated: Sat Mar 27 2021\n",
      "\n",
      "Python implementation: CPython\n",
      "Python version       : 3.9.1\n",
      "IPython version      : 7.21.0\n",
      "\n",
      "pandas : 1.2.3\n",
      "seaborn: 0.11.1\n",
      "numpyro: 0.6.0\n",
      "arviz  : 0.11.2\n",
      "numpy  : 1.20.1\n",
      "jax    : 0.2.10\n",
      "\n",
      "Watermark: 2.2.0\n",
      "\n"
     ]
    }
   ],
   "source": [
    "%load_ext watermark\n",
    "%watermark -n -u -v -iv -w"
   ]
  },
  {
   "cell_type": "code",
   "execution_count": 3,
   "metadata": {},
   "outputs": [],
   "source": [
    "rng_key = random.PRNGKey(0)\n",
    "sns.set_style('whitegrid')"
   ]
  },
  {
   "cell_type": "markdown",
   "metadata": {},
   "source": [
    "## Exercise 1"
   ]
  },
  {
   "cell_type": "markdown",
   "metadata": {},
   "source": [
    "> Revisit the Bangladesh fertility data, data(`bangladesh`). Fit a model with both varying intercepts by `district_id` and varying slopes of `urban` (as a 0/1 indicator variable) by `district_id`. You are still predicting `use.contraception`. Inspect the correlation between the intercepts and slopes. Can you interpret this correlation, in terms of what it tells you about the pattern of contraceptive use in the sample? It might help to plot the varying effect estimates for both the intercepts and slopes by district. Then you can visualize the correlation and maybe more easily think through what it means to have a particular correlation. Plotting predicted proportion of women using contraception, in each district, with urban women on one axis and rural on the other, might also help."
   ]
  },
  {
   "cell_type": "code",
   "execution_count": 4,
   "metadata": {},
   "outputs": [
    {
     "data": {
      "text/html": [
       "<div>\n",
       "<style scoped>\n",
       "    .dataframe tbody tr th:only-of-type {\n",
       "        vertical-align: middle;\n",
       "    }\n",
       "\n",
       "    .dataframe tbody tr th {\n",
       "        vertical-align: top;\n",
       "    }\n",
       "\n",
       "    .dataframe thead th {\n",
       "        text-align: right;\n",
       "    }\n",
       "</style>\n",
       "<table border=\"1\" class=\"dataframe\">\n",
       "  <thead>\n",
       "    <tr style=\"text-align: right;\">\n",
       "      <th></th>\n",
       "      <th>woman</th>\n",
       "      <th>district</th>\n",
       "      <th>contra</th>\n",
       "      <th>living.children</th>\n",
       "      <th>age.centered</th>\n",
       "      <th>urban</th>\n",
       "      <th>did</th>\n",
       "      <th>children</th>\n",
       "      <th>age</th>\n",
       "    </tr>\n",
       "  </thead>\n",
       "  <tbody>\n",
       "    <tr>\n",
       "      <th>1931</th>\n",
       "      <td>1932</td>\n",
       "      <td>61</td>\n",
       "      <td>0</td>\n",
       "      <td>4</td>\n",
       "      <td>14.44</td>\n",
       "      <td>0</td>\n",
       "      <td>59</td>\n",
       "      <td>1.084782</td>\n",
       "      <td>1.601843</td>\n",
       "    </tr>\n",
       "    <tr>\n",
       "      <th>1932</th>\n",
       "      <td>1933</td>\n",
       "      <td>61</td>\n",
       "      <td>0</td>\n",
       "      <td>1</td>\n",
       "      <td>-13.56</td>\n",
       "      <td>0</td>\n",
       "      <td>59</td>\n",
       "      <td>-1.329451</td>\n",
       "      <td>-1.504697</td>\n",
       "    </tr>\n",
       "    <tr>\n",
       "      <th>1933</th>\n",
       "      <td>1934</td>\n",
       "      <td>61</td>\n",
       "      <td>0</td>\n",
       "      <td>4</td>\n",
       "      <td>10.44</td>\n",
       "      <td>0</td>\n",
       "      <td>59</td>\n",
       "      <td>1.084782</td>\n",
       "      <td>1.158052</td>\n",
       "    </tr>\n",
       "  </tbody>\n",
       "</table>\n",
       "</div>"
      ],
      "text/plain": [
       "      woman  district  contra  living.children  age.centered  urban  did  \\\n",
       "1931   1932        61       0                4         14.44      0   59   \n",
       "1932   1933        61       0                1        -13.56      0   59   \n",
       "1933   1934        61       0                4         10.44      0   59   \n",
       "\n",
       "      children       age  \n",
       "1931  1.084782  1.601843  \n",
       "1932 -1.329451 -1.504697  \n",
       "1933  1.084782  1.158052  "
      ]
     },
     "execution_count": 4,
     "metadata": {},
     "output_type": "execute_result"
    }
   ],
   "source": [
    "d = pd.read_csv('./dat/bangladesh.csv', header=0, sep=';')\n",
    "d['did'] = pd.factorize(d['district'])[0]\n",
    "normalize = lambda x: (x - x.mean())/x.std()\n",
    "d['children'] = normalize(d['living.children'])\n",
    "d['age'] = normalize(d['age.centered'])\n",
    "d.rename(columns={'use.contraception':'contra'}, inplace=True)\n",
    "d.tail(3)"
   ]
  },
  {
   "cell_type": "markdown",
   "metadata": {},
   "source": [
    "This is a conventional varying slopes model, with a centered parameterization. No surprises. If you peek at the posterior distributions for the average effects, you'll see that the average slope is positive:"
   ]
  },
  {
   "cell_type": "code",
   "execution_count": 5,
   "metadata": {},
   "outputs": [],
   "source": [
    "# https://fehiepsi.github.io/rethinking-numpyro/14-adventures-in-covariance.html\n",
    "\n",
    "def model(did, urban, contra=None):\n",
    "    # fixed priors\n",
    "    a_bar = numpyro.sample('a_bar', dist.Normal(0, 1))\n",
    "    b_bar = numpyro.sample('b_bar', dist.Normal(0, 0.5))\n",
    "    sigma_ab = numpyro.sample('sigma_ab', dist.Exponential(1), sample_shape=(2,))\n",
    "    rho = numpyro.sample('rho', dist.LKJ(2,2))\n",
    "    # adaptive priors\n",
    "    mu = jnp.stack([a_bar,b_bar])\n",
    "    cov = jnp.outer(sigma_ab, sigma_ab)*rho\n",
    "    i, j = len(d.did.unique()), len(d.urban.unique())\n",
    "    ab_did = numpyro.sample('ab_did', dist.MultivariateNormal(mu, cov), sample_shape=(i,j))\n",
    "    # likelihood\n",
    "    a_did, b_did = ab_did[:,:,0], ab_did[:,:,1]\n",
    "    theta = a_did[did,urban] + b_did[did,urban]*urban\n",
    "    contra_hat = numpyro.sample('contra_hat', dist.Bernoulli(logits=theta), obs=contra)"
   ]
  },
  {
   "cell_type": "code",
   "execution_count": 6,
   "metadata": {},
   "outputs": [
    {
     "name": "stderr",
     "output_type": "stream",
     "text": [
      "sample: 100%|██████████| 1000/1000 [00:17<00:00, 57.73it/s, 63 steps of size 1.22e-01. acc. prob=0.80] \n",
      "sample: 100%|██████████| 1000/1000 [00:05<00:00, 167.03it/s, 31 steps of size 1.36e-01. acc. prob=0.82]\n",
      "sample: 100%|██████████| 1000/1000 [00:06<00:00, 153.30it/s, 63 steps of size 6.78e-02. acc. prob=0.79]\n",
      "sample: 100%|██████████| 1000/1000 [00:10<00:00, 93.79it/s, 127 steps of size 4.00e-02. acc. prob=0.79]\n"
     ]
    }
   ],
   "source": [
    "kernel = NUTS(model)\n",
    "mcmc = MCMC(kernel, num_warmup=500, num_samples=500, num_chains=4, chain_method='sequential')\n",
    "dat = {k:v.to_numpy() for k,v in d[['did','urban','contra']].items()}\n",
    "mcmc.run(rng_key, **dat)"
   ]
  },
  {
   "cell_type": "code",
   "execution_count": 7,
   "metadata": {},
   "outputs": [
    {
     "data": {
      "text/html": [
       "<div>\n",
       "<style scoped>\n",
       "    .dataframe tbody tr th:only-of-type {\n",
       "        vertical-align: middle;\n",
       "    }\n",
       "\n",
       "    .dataframe tbody tr th {\n",
       "        vertical-align: top;\n",
       "    }\n",
       "\n",
       "    .dataframe thead th {\n",
       "        text-align: right;\n",
       "    }\n",
       "</style>\n",
       "<table border=\"1\" class=\"dataframe\">\n",
       "  <thead>\n",
       "    <tr style=\"text-align: right;\">\n",
       "      <th></th>\n",
       "      <th>mean</th>\n",
       "      <th>sd</th>\n",
       "      <th>hdi_5.5%</th>\n",
       "      <th>hdi_94.5%</th>\n",
       "      <th>mcse_mean</th>\n",
       "      <th>mcse_sd</th>\n",
       "      <th>ess_bulk</th>\n",
       "      <th>ess_tail</th>\n",
       "      <th>r_hat</th>\n",
       "    </tr>\n",
       "  </thead>\n",
       "  <tbody>\n",
       "    <tr>\n",
       "      <th>a_bar</th>\n",
       "      <td>-0.68</td>\n",
       "      <td>0.10</td>\n",
       "      <td>-0.83</td>\n",
       "      <td>-0.52</td>\n",
       "      <td>0.01</td>\n",
       "      <td>0.00</td>\n",
       "      <td>318.0</td>\n",
       "      <td>717.0</td>\n",
       "      <td>1.02</td>\n",
       "    </tr>\n",
       "    <tr>\n",
       "      <th>b_bar</th>\n",
       "      <td>0.63</td>\n",
       "      <td>0.17</td>\n",
       "      <td>0.32</td>\n",
       "      <td>0.89</td>\n",
       "      <td>0.02</td>\n",
       "      <td>0.01</td>\n",
       "      <td>108.0</td>\n",
       "      <td>100.0</td>\n",
       "      <td>1.05</td>\n",
       "    </tr>\n",
       "    <tr>\n",
       "      <th>sigma_ab[0]</th>\n",
       "      <td>0.58</td>\n",
       "      <td>0.08</td>\n",
       "      <td>0.45</td>\n",
       "      <td>0.72</td>\n",
       "      <td>0.00</td>\n",
       "      <td>0.00</td>\n",
       "      <td>394.0</td>\n",
       "      <td>671.0</td>\n",
       "      <td>1.01</td>\n",
       "    </tr>\n",
       "    <tr>\n",
       "      <th>sigma_ab[1]</th>\n",
       "      <td>0.27</td>\n",
       "      <td>0.20</td>\n",
       "      <td>0.04</td>\n",
       "      <td>0.52</td>\n",
       "      <td>0.06</td>\n",
       "      <td>0.05</td>\n",
       "      <td>7.0</td>\n",
       "      <td>22.0</td>\n",
       "      <td>1.51</td>\n",
       "    </tr>\n",
       "  </tbody>\n",
       "</table>\n",
       "</div>"
      ],
      "text/plain": [
       "             mean    sd  hdi_5.5%  hdi_94.5%  mcse_mean  mcse_sd  ess_bulk  \\\n",
       "a_bar       -0.68  0.10     -0.83      -0.52       0.01     0.00     318.0   \n",
       "b_bar        0.63  0.17      0.32       0.89       0.02     0.01     108.0   \n",
       "sigma_ab[0]  0.58  0.08      0.45       0.72       0.00     0.00     394.0   \n",
       "sigma_ab[1]  0.27  0.20      0.04       0.52       0.06     0.05       7.0   \n",
       "\n",
       "             ess_tail  r_hat  \n",
       "a_bar           717.0   1.02  \n",
       "b_bar           100.0   1.05  \n",
       "sigma_ab[0]     671.0   1.01  \n",
       "sigma_ab[1]      22.0   1.51  "
      ]
     },
     "execution_count": 7,
     "metadata": {},
     "output_type": "execute_result"
    }
   ],
   "source": [
    "samples_11 = az.from_numpyro(mcmc)\n",
    "az.summary(samples_11, var_names=['a_bar','b_bar', 'sigma_ab'], hdi_prob=.89).round(2)"
   ]
  },
  {
   "cell_type": "markdown",
   "metadata": {},
   "source": [
    "This implies that urban areas use contraception more. Not surprising. The correlation between the intercepts and slopes is quite negative. Let's plot the individual effects to appreciate this:"
   ]
  },
  {
   "cell_type": "code",
   "execution_count": 8,
   "metadata": {},
   "outputs": [
    {
     "data": {
      "text/html": [
       "<div>\n",
       "<style scoped>\n",
       "    .dataframe tbody tr th:only-of-type {\n",
       "        vertical-align: middle;\n",
       "    }\n",
       "\n",
       "    .dataframe tbody tr th {\n",
       "        vertical-align: top;\n",
       "    }\n",
       "\n",
       "    .dataframe thead th {\n",
       "        text-align: right;\n",
       "    }\n",
       "</style>\n",
       "<table border=\"1\" class=\"dataframe\">\n",
       "  <thead>\n",
       "    <tr style=\"text-align: right;\">\n",
       "      <th></th>\n",
       "      <th>a</th>\n",
       "      <th>b</th>\n",
       "      <th>u0</th>\n",
       "      <th>u1</th>\n",
       "    </tr>\n",
       "  </thead>\n",
       "  <tbody>\n",
       "    <tr>\n",
       "      <th>57</th>\n",
       "      <td>-0.917290</td>\n",
       "      <td>0.661106</td>\n",
       "      <td>0.285510</td>\n",
       "      <td>0.436302</td>\n",
       "    </tr>\n",
       "    <tr>\n",
       "      <th>58</th>\n",
       "      <td>-1.079067</td>\n",
       "      <td>0.634777</td>\n",
       "      <td>0.253683</td>\n",
       "      <td>0.390719</td>\n",
       "    </tr>\n",
       "    <tr>\n",
       "      <th>59</th>\n",
       "      <td>-1.093814</td>\n",
       "      <td>0.618861</td>\n",
       "      <td>0.250901</td>\n",
       "      <td>0.383445</td>\n",
       "    </tr>\n",
       "  </tbody>\n",
       "</table>\n",
       "</div>"
      ],
      "text/plain": [
       "           a         b        u0        u1\n",
       "57 -0.917290  0.661106  0.285510  0.436302\n",
       "58 -1.079067  0.634777  0.253683  0.390719\n",
       "59 -1.093814  0.618861  0.250901  0.383445"
      ]
     },
     "execution_count": 8,
     "metadata": {},
     "output_type": "execute_result"
    }
   ],
   "source": [
    "# mean chain value\n",
    "ab = np.concatenate(samples_11.posterior.ab_did.values, axis=0)\n",
    "ab = ab.mean(axis=0)\n",
    "# aggregate rural and urban results\n",
    "a, b = ab[:,:,0], ab[:,:,1]\n",
    "a, b = a.mean(axis=1), b.mean(axis=1)\n",
    "# dataframe\n",
    "aux = pd.DataFrame({'a':a, 'b':b})\n",
    "aux['u0'] = logistic(aux.a)\n",
    "aux['u1'] = logistic(aux.a+aux.b)\n",
    "aux.tail(3)"
   ]
  },
  {
   "cell_type": "markdown",
   "metadata": {},
   "source": [
    "There's the negative correlation: districts with higher use outside urban areas (a values) have smaller slopes. Since the slope is the difference between urban and non-urban areas, you can see this as saying that districts with high use in rural areas have urban areas that aren't as different. On the outcome scale, what this ends up meaning is that urban places are much the same in all districts, but rural areas vary a lot."
   ]
  },
  {
   "cell_type": "code",
   "execution_count": 9,
   "metadata": {},
   "outputs": [
    {
     "data": {
      "image/png": "[encoded data removed]",
      "text/plain": [
       "<Figure size 432x288 with 1 Axes>"
      ]
     },
     "metadata": {},
     "output_type": "display_data"
    }
   ],
   "source": [
    "g = sns.scatterplot(data=aux, x='a', y='b')\n",
    "g.axvline(0, ls='--', color='black')\n",
    "g.axhline(0, ls='--', color='black');"
   ]
  },
  {
   "cell_type": "markdown",
   "metadata": {},
   "source": [
    "The horizontal axis is probability of contraceptive use in rural area of a district. The vertical is the probability in urban area of same district. There urban areas above and below 0.5. All rural areas are below 0.5. However, for the same ditrict, the urban area is above the rural one. The negative correlation between the intercepts and slopes is necessary to encode this pattern."
   ]
  },
  {
   "cell_type": "code",
   "execution_count": 10,
   "metadata": {},
   "outputs": [
    {
     "data": {
      "image/png": "[encoded data removed]",
      "text/plain": [
       "<Figure size 432x288 with 1 Axes>"
      ]
     },
     "metadata": {},
     "output_type": "display_data"
    }
   ],
   "source": [
    "g = sns.scatterplot(data=aux, x='u0', y='u1')\n",
    "g.axvline(0.5, ls='--', color='black')\n",
    "g.axhline(0.5, ls='--', color='black');"
   ]
  },
  {
   "cell_type": "markdown",
   "metadata": {},
   "source": [
    "In fact, if we fit the model so it instead has two intercepts, one for rural and one for urban, there is no strong correlation between those intercepts. Here's such a model:"
   ]
  },
  {
   "cell_type": "code",
   "execution_count": 11,
   "metadata": {},
   "outputs": [],
   "source": [
    "def model(did, urban, contra=None):\n",
    "    # fixed priors\n",
    "    a_bar = numpyro.sample('a_bar', dist.Normal(0, 1))\n",
    "    b_bar = numpyro.sample('b_bar', dist.Normal(0, 0.5))\n",
    "    sigma_ab = numpyro.sample('sigma_ab', dist.Exponential(1), sample_shape=(2,))\n",
    "    rho = numpyro.sample('rho', dist.LKJ(2,2))\n",
    "    # adaptive priors\n",
    "    mu = jnp.stack([a_bar,b_bar])\n",
    "    cov = jnp.outer(sigma_ab, sigma_ab)*rho\n",
    "    i = len(d.did.unique())\n",
    "    ab_did = numpyro.sample('ab_did', dist.MultivariateNormal(mu, cov), sample_shape=(i,))\n",
    "    # likelihood\n",
    "    theta = ab_did[did,urban]\n",
    "    contra_hat = numpyro.sample('contra_hat', dist.Bernoulli(logits=theta), obs=contra)"
   ]
  },
  {
   "cell_type": "code",
   "execution_count": 12,
   "metadata": {},
   "outputs": [
    {
     "name": "stderr",
     "output_type": "stream",
     "text": [
      "sample: 100%|██████████| 1000/1000 [00:13<00:00, 71.67it/s, 15 steps of size 2.84e-01. acc. prob=0.86]\n",
      "sample: 100%|██████████| 1000/1000 [00:04<00:00, 228.54it/s, 15 steps of size 2.56e-01. acc. prob=0.78]\n",
      "sample: 100%|██████████| 1000/1000 [00:04<00:00, 236.13it/s, 15 steps of size 2.50e-01. acc. prob=0.88]\n",
      "sample: 100%|██████████| 1000/1000 [00:04<00:00, 239.82it/s, 15 steps of size 2.64e-01. acc. prob=0.85]\n"
     ]
    }
   ],
   "source": [
    "kernel = NUTS(model)\n",
    "mcmc = MCMC(kernel, num_warmup=500, num_samples=500, num_chains=4, chain_method='sequential')\n",
    "dat = {k:v.to_numpy() for k,v in d[['did','urban','contra']].items()}\n",
    "mcmc.run(rng_key, **dat)"
   ]
  },
  {
   "cell_type": "code",
   "execution_count": 13,
   "metadata": {},
   "outputs": [
    {
     "data": {
      "text/html": [
       "<div>\n",
       "<style scoped>\n",
       "    .dataframe tbody tr th:only-of-type {\n",
       "        vertical-align: middle;\n",
       "    }\n",
       "\n",
       "    .dataframe tbody tr th {\n",
       "        vertical-align: top;\n",
       "    }\n",
       "\n",
       "    .dataframe thead th {\n",
       "        text-align: right;\n",
       "    }\n",
       "</style>\n",
       "<table border=\"1\" class=\"dataframe\">\n",
       "  <thead>\n",
       "    <tr style=\"text-align: right;\">\n",
       "      <th></th>\n",
       "      <th>mean</th>\n",
       "      <th>sd</th>\n",
       "      <th>hdi_5.5%</th>\n",
       "      <th>hdi_94.5%</th>\n",
       "      <th>mcse_mean</th>\n",
       "      <th>mcse_sd</th>\n",
       "      <th>ess_bulk</th>\n",
       "      <th>ess_tail</th>\n",
       "      <th>r_hat</th>\n",
       "    </tr>\n",
       "  </thead>\n",
       "  <tbody>\n",
       "    <tr>\n",
       "      <th>a_bar</th>\n",
       "      <td>-0.72</td>\n",
       "      <td>0.10</td>\n",
       "      <td>-0.89</td>\n",
       "      <td>-0.56</td>\n",
       "      <td>0.00</td>\n",
       "      <td>0.00</td>\n",
       "      <td>1339.0</td>\n",
       "      <td>819.0</td>\n",
       "      <td>1.00</td>\n",
       "    </tr>\n",
       "    <tr>\n",
       "      <th>b_bar</th>\n",
       "      <td>0.02</td>\n",
       "      <td>0.12</td>\n",
       "      <td>-0.20</td>\n",
       "      <td>0.20</td>\n",
       "      <td>0.00</td>\n",
       "      <td>0.00</td>\n",
       "      <td>784.0</td>\n",
       "      <td>1178.0</td>\n",
       "      <td>1.00</td>\n",
       "    </tr>\n",
       "    <tr>\n",
       "      <th>sigma_ab[0]</th>\n",
       "      <td>0.62</td>\n",
       "      <td>0.10</td>\n",
       "      <td>0.46</td>\n",
       "      <td>0.78</td>\n",
       "      <td>0.00</td>\n",
       "      <td>0.00</td>\n",
       "      <td>549.0</td>\n",
       "      <td>920.0</td>\n",
       "      <td>1.01</td>\n",
       "    </tr>\n",
       "    <tr>\n",
       "      <th>sigma_ab[1]</th>\n",
       "      <td>0.48</td>\n",
       "      <td>0.15</td>\n",
       "      <td>0.25</td>\n",
       "      <td>0.72</td>\n",
       "      <td>0.01</td>\n",
       "      <td>0.01</td>\n",
       "      <td>101.0</td>\n",
       "      <td>92.0</td>\n",
       "      <td>1.02</td>\n",
       "    </tr>\n",
       "  </tbody>\n",
       "</table>\n",
       "</div>"
      ],
      "text/plain": [
       "             mean    sd  hdi_5.5%  hdi_94.5%  mcse_mean  mcse_sd  ess_bulk  \\\n",
       "a_bar       -0.72  0.10     -0.89      -0.56       0.00     0.00    1339.0   \n",
       "b_bar        0.02  0.12     -0.20       0.20       0.00     0.00     784.0   \n",
       "sigma_ab[0]  0.62  0.10      0.46       0.78       0.00     0.00     549.0   \n",
       "sigma_ab[1]  0.48  0.15      0.25       0.72       0.01     0.01     101.0   \n",
       "\n",
       "             ess_tail  r_hat  \n",
       "a_bar           819.0   1.00  \n",
       "b_bar          1178.0   1.00  \n",
       "sigma_ab[0]     920.0   1.01  \n",
       "sigma_ab[1]      92.0   1.02  "
      ]
     },
     "execution_count": 13,
     "metadata": {},
     "output_type": "execute_result"
    }
   ],
   "source": [
    "samples_12 = az.from_numpyro(mcmc)\n",
    "az.summary(samples_12, var_names=['a_bar','b_bar', 'sigma_ab'], hdi_prob=.89).round(2)"
   ]
  },
  {
   "cell_type": "markdown",
   "metadata": {},
   "source": [
    "Correlation all gone."
   ]
  },
  {
   "cell_type": "markdown",
   "metadata": {},
   "source": [
    "## Exercise 2"
   ]
  },
  {
   "cell_type": "markdown",
   "metadata": {},
   "source": [
    "> Now consider the predictor variables age.centered and living.children, also contained in data(`bangladesh`). Suppose that age influences contraceptive use (changing attitudes) and number of children (older people have had more time to have kids). Number of children may also directly influence contraceptive use. Draw a DAG that reflects these hypothetical relationships. Then build models needed to evaluate the DAG. You will need at least two models. Retain district and urban, as in Problem 1. What do you conclude about the causal influence of age and children?"
   ]
  },
  {
   "cell_type": "markdown",
   "metadata": {},
   "source": [
    "Here's my DAG:"
   ]
  },
  {
   "cell_type": "markdown",
   "metadata": {},
   "source": [
    "<img src=\"./fig/w9_img1.png\" width=\"20%\">"
   ]
  },
  {
   "cell_type": "markdown",
   "metadata": {},
   "source": [
    "`A` is age, `K` is number of children, and `C` is contraception use. To study this DAG, we should estimate both the total causal influence of `A` and then condition also on `K` and see if the direct influence of `A` is smaller. Here's the model for the total influence of A:"
   ]
  },
  {
   "cell_type": "code",
   "execution_count": 14,
   "metadata": {},
   "outputs": [],
   "source": [
    "def model(did, urban, age, contra=None):\n",
    "    # fixed priors\n",
    "    a_bar = numpyro.sample('a_bar', dist.Normal(0, 1))\n",
    "    b_bar = numpyro.sample('b_bar', dist.Normal(0, 0.5))\n",
    "    sigma_ab = numpyro.sample('sigma_ab', dist.Exponential(1), sample_shape=(2,))\n",
    "    rho = numpyro.sample('rho', dist.LKJ(2,2))\n",
    "    bA = numpyro.sample('bA', dist.Normal(0,0.5))\n",
    "    # adaptive priors\n",
    "    mu = jnp.stack([a_bar,b_bar])\n",
    "    cov = jnp.outer(sigma_ab, sigma_ab)*rho\n",
    "    i, j = len(d.did.unique()), len(d.urban.unique())\n",
    "    ab_did = numpyro.sample('ab_did', dist.MultivariateNormal(mu, cov), sample_shape=(i,j))\n",
    "    # likelihood\n",
    "    a_did, b_did = ab_did[:,:,0], ab_did[:,:,1]\n",
    "    theta = a_did[did,urban] + b_did[did,urban]*urban + bA*age\n",
    "    contra_hat = numpyro.sample('contra_hat', dist.Bernoulli(logits=theta), obs=contra)"
   ]
  },
  {
   "cell_type": "code",
   "execution_count": 15,
   "metadata": {},
   "outputs": [
    {
     "name": "stderr",
     "output_type": "stream",
     "text": [
      "sample: 100%|██████████| 1000/1000 [00:27<00:00, 36.38it/s, 31 steps of size 1.24e-01. acc. prob=0.82] \n",
      "sample: 100%|██████████| 1000/1000 [00:11<00:00, 85.01it/s, 63 steps of size 9.35e-02. acc. prob=0.88] \n",
      "sample: 100%|██████████| 1000/1000 [00:20<00:00, 49.23it/s, 63 steps of size 7.50e-02. acc. prob=0.77] \n",
      "sample: 100%|██████████| 1000/1000 [00:20<00:00, 49.44it/s, 63 steps of size 6.72e-02. acc. prob=0.95]\n"
     ]
    }
   ],
   "source": [
    "kernel = NUTS(model)\n",
    "mcmc = MCMC(kernel, num_warmup=500, num_samples=500, num_chains=4, chain_method='sequential')\n",
    "dat = {k:v.to_numpy() for k,v in d[['did','urban','age','contra']].items()}\n",
    "mcmc.run(rng_key, **dat)"
   ]
  },
  {
   "cell_type": "code",
   "execution_count": 16,
   "metadata": {},
   "outputs": [
    {
     "data": {
      "text/html": [
       "<div>\n",
       "<style scoped>\n",
       "    .dataframe tbody tr th:only-of-type {\n",
       "        vertical-align: middle;\n",
       "    }\n",
       "\n",
       "    .dataframe tbody tr th {\n",
       "        vertical-align: top;\n",
       "    }\n",
       "\n",
       "    .dataframe thead th {\n",
       "        text-align: right;\n",
       "    }\n",
       "</style>\n",
       "<table border=\"1\" class=\"dataframe\">\n",
       "  <thead>\n",
       "    <tr style=\"text-align: right;\">\n",
       "      <th></th>\n",
       "      <th>mean</th>\n",
       "      <th>sd</th>\n",
       "      <th>hdi_5.5%</th>\n",
       "      <th>hdi_94.5%</th>\n",
       "      <th>mcse_mean</th>\n",
       "      <th>mcse_sd</th>\n",
       "      <th>ess_bulk</th>\n",
       "      <th>ess_tail</th>\n",
       "      <th>r_hat</th>\n",
       "    </tr>\n",
       "  </thead>\n",
       "  <tbody>\n",
       "    <tr>\n",
       "      <th>a_bar</th>\n",
       "      <td>-0.67</td>\n",
       "      <td>0.10</td>\n",
       "      <td>-0.84</td>\n",
       "      <td>-0.52</td>\n",
       "      <td>0.01</td>\n",
       "      <td>0.01</td>\n",
       "      <td>76.0</td>\n",
       "      <td>311.0</td>\n",
       "      <td>1.05</td>\n",
       "    </tr>\n",
       "    <tr>\n",
       "      <th>b_bar</th>\n",
       "      <td>0.61</td>\n",
       "      <td>0.16</td>\n",
       "      <td>0.35</td>\n",
       "      <td>0.85</td>\n",
       "      <td>0.04</td>\n",
       "      <td>0.03</td>\n",
       "      <td>21.0</td>\n",
       "      <td>98.0</td>\n",
       "      <td>1.14</td>\n",
       "    </tr>\n",
       "    <tr>\n",
       "      <th>sigma_ab[0]</th>\n",
       "      <td>0.59</td>\n",
       "      <td>0.09</td>\n",
       "      <td>0.46</td>\n",
       "      <td>0.75</td>\n",
       "      <td>0.01</td>\n",
       "      <td>0.00</td>\n",
       "      <td>252.0</td>\n",
       "      <td>438.0</td>\n",
       "      <td>1.01</td>\n",
       "    </tr>\n",
       "    <tr>\n",
       "      <th>sigma_ab[1]</th>\n",
       "      <td>0.32</td>\n",
       "      <td>0.24</td>\n",
       "      <td>0.03</td>\n",
       "      <td>0.64</td>\n",
       "      <td>0.08</td>\n",
       "      <td>0.06</td>\n",
       "      <td>7.0</td>\n",
       "      <td>19.0</td>\n",
       "      <td>1.62</td>\n",
       "    </tr>\n",
       "  </tbody>\n",
       "</table>\n",
       "</div>"
      ],
      "text/plain": [
       "             mean    sd  hdi_5.5%  hdi_94.5%  mcse_mean  mcse_sd  ess_bulk  \\\n",
       "a_bar       -0.67  0.10     -0.84      -0.52       0.01     0.01      76.0   \n",
       "b_bar        0.61  0.16      0.35       0.85       0.04     0.03      21.0   \n",
       "sigma_ab[0]  0.59  0.09      0.46       0.75       0.01     0.00     252.0   \n",
       "sigma_ab[1]  0.32  0.24      0.03       0.64       0.08     0.06       7.0   \n",
       "\n",
       "             ess_tail  r_hat  \n",
       "a_bar           311.0   1.05  \n",
       "b_bar            98.0   1.14  \n",
       "sigma_ab[0]     438.0   1.01  \n",
       "sigma_ab[1]      19.0   1.62  "
      ]
     },
     "execution_count": 16,
     "metadata": {},
     "output_type": "execute_result"
    }
   ],
   "source": [
    "samples_21 = az.from_numpyro(mcmc)\n",
    "az.summary(samples_21, var_names=['a_bar','b_bar', 'sigma_ab'], hdi_prob=.89).round(2)"
   ]
  },
  {
   "cell_type": "markdown",
   "metadata": {},
   "source": [
    "In this model, the total causal effect of `age` is positive and very small. Older individuals use slightly more contraception. And now the model with both `K` and `A`:"
   ]
  },
  {
   "cell_type": "code",
   "execution_count": 17,
   "metadata": {},
   "outputs": [],
   "source": [
    "def model(did, urban, age, children, contra=None):\n",
    "    # fixed priors\n",
    "    a_bar = numpyro.sample('a_bar', dist.Normal(0, 1))\n",
    "    b_bar = numpyro.sample('b_bar', dist.Normal(0, 0.5))\n",
    "    sigma_ab = numpyro.sample('sigma_ab', dist.Exponential(1), sample_shape=(2,))\n",
    "    rho = numpyro.sample('rho', dist.LKJ(2,2))\n",
    "    bA = numpyro.sample('bA', dist.Normal(0,0.5))\n",
    "    bK = numpyro.sample('bK', dist.Normal(0,0.5))\n",
    "    # adaptive priors\n",
    "    mu = jnp.stack([a_bar,b_bar])\n",
    "    cov = jnp.outer(sigma_ab, sigma_ab)*rho\n",
    "    i, j = len(d.did.unique()), len(d.urban.unique())\n",
    "    ab_did = numpyro.sample('ab_did', dist.MultivariateNormal(mu, cov), sample_shape=(i,j))\n",
    "    # likelihood\n",
    "    a_did, b_did = ab_did[:,:,0], ab_did[:,:,1]\n",
    "    theta = a_did[did,urban] + b_did[did,urban]*urban + bA*age + bK*children\n",
    "    contra_hat = numpyro.sample('contra_hat', dist.Bernoulli(logits=theta), obs=contra)"
   ]
  },
  {
   "cell_type": "code",
   "execution_count": 18,
   "metadata": {},
   "outputs": [
    {
     "name": "stderr",
     "output_type": "stream",
     "text": [
      "sample: 100%|██████████| 1000/1000 [00:19<00:00, 51.75it/s, 31 steps of size 1.50e-01. acc. prob=0.87]\n",
      "sample: 100%|██████████| 1000/1000 [00:08<00:00, 123.12it/s, 31 steps of size 1.78e-01. acc. prob=0.52]\n",
      "sample: 100%|██████████| 1000/1000 [00:15<00:00, 64.93it/s, 319 steps of size 4.90e-02. acc. prob=0.96]\n",
      "sample: 100%|██████████| 1000/1000 [00:08<00:00, 113.71it/s, 31 steps of size 1.30e-01. acc. prob=0.81]\n"
     ]
    }
   ],
   "source": [
    "kernel = NUTS(model)\n",
    "mcmc = MCMC(kernel, num_warmup=500, num_samples=500, num_chains=4, chain_method='sequential')\n",
    "dat = {k:v.to_numpy() for k,v in d[['did','urban','age', 'children', 'contra']].items()}\n",
    "mcmc.run(rng_key, **dat)"
   ]
  },
  {
   "cell_type": "code",
   "execution_count": 19,
   "metadata": {},
   "outputs": [
    {
     "data": {
      "text/html": [
       "<div>\n",
       "<style scoped>\n",
       "    .dataframe tbody tr th:only-of-type {\n",
       "        vertical-align: middle;\n",
       "    }\n",
       "\n",
       "    .dataframe tbody tr th {\n",
       "        vertical-align: top;\n",
       "    }\n",
       "\n",
       "    .dataframe thead th {\n",
       "        text-align: right;\n",
       "    }\n",
       "</style>\n",
       "<table border=\"1\" class=\"dataframe\">\n",
       "  <thead>\n",
       "    <tr style=\"text-align: right;\">\n",
       "      <th></th>\n",
       "      <th>mean</th>\n",
       "      <th>sd</th>\n",
       "      <th>hdi_5.5%</th>\n",
       "      <th>hdi_94.5%</th>\n",
       "      <th>mcse_mean</th>\n",
       "      <th>mcse_sd</th>\n",
       "      <th>ess_bulk</th>\n",
       "      <th>ess_tail</th>\n",
       "      <th>r_hat</th>\n",
       "    </tr>\n",
       "  </thead>\n",
       "  <tbody>\n",
       "    <tr>\n",
       "      <th>a_bar</th>\n",
       "      <td>-0.72</td>\n",
       "      <td>0.10</td>\n",
       "      <td>-0.88</td>\n",
       "      <td>-0.56</td>\n",
       "      <td>0.00</td>\n",
       "      <td>0.00</td>\n",
       "      <td>423.0</td>\n",
       "      <td>795.0</td>\n",
       "      <td>1.01</td>\n",
       "    </tr>\n",
       "    <tr>\n",
       "      <th>b_bar</th>\n",
       "      <td>0.70</td>\n",
       "      <td>0.17</td>\n",
       "      <td>0.46</td>\n",
       "      <td>0.99</td>\n",
       "      <td>0.01</td>\n",
       "      <td>0.01</td>\n",
       "      <td>177.0</td>\n",
       "      <td>415.0</td>\n",
       "      <td>1.01</td>\n",
       "    </tr>\n",
       "    <tr>\n",
       "      <th>bA</th>\n",
       "      <td>-0.26</td>\n",
       "      <td>0.07</td>\n",
       "      <td>-0.36</td>\n",
       "      <td>-0.14</td>\n",
       "      <td>0.00</td>\n",
       "      <td>0.00</td>\n",
       "      <td>412.0</td>\n",
       "      <td>1208.0</td>\n",
       "      <td>1.01</td>\n",
       "    </tr>\n",
       "    <tr>\n",
       "      <th>bK</th>\n",
       "      <td>0.51</td>\n",
       "      <td>0.07</td>\n",
       "      <td>0.40</td>\n",
       "      <td>0.62</td>\n",
       "      <td>0.00</td>\n",
       "      <td>0.00</td>\n",
       "      <td>1547.0</td>\n",
       "      <td>1391.0</td>\n",
       "      <td>1.01</td>\n",
       "    </tr>\n",
       "  </tbody>\n",
       "</table>\n",
       "</div>"
      ],
      "text/plain": [
       "       mean    sd  hdi_5.5%  hdi_94.5%  mcse_mean  mcse_sd  ess_bulk  \\\n",
       "a_bar -0.72  0.10     -0.88      -0.56       0.00     0.00     423.0   \n",
       "b_bar  0.70  0.17      0.46       0.99       0.01     0.01     177.0   \n",
       "bA    -0.26  0.07     -0.36      -0.14       0.00     0.00     412.0   \n",
       "bK     0.51  0.07      0.40       0.62       0.00     0.00    1547.0   \n",
       "\n",
       "       ess_tail  r_hat  \n",
       "a_bar     795.0   1.01  \n",
       "b_bar     415.0   1.01  \n",
       "bA       1208.0   1.01  \n",
       "bK       1391.0   1.01  "
      ]
     },
     "execution_count": 19,
     "metadata": {},
     "output_type": "execute_result"
    }
   ],
   "source": [
    "samples_22 = az.from_numpyro(mcmc)\n",
    "az.summary(samples_22, var_names=['a_bar','b_bar', 'bA', 'bK'], hdi_prob=.89).round(2)"
   ]
  },
  {
   "cell_type": "markdown",
   "metadata": {},
   "source": [
    "In this model, the direct effect of `age` is negative, and much farther from zero than before. The effect of number of children is strong and positive. These results are consistent with the DAG, because they imply that the reason the total effect of age, from `model_21`, is positive is that older individuals also have more kids. Having more kids increases contraception. Being older, controlling for kids, actually makes contraception less likely."
   ]
  },
  {
   "cell_type": "markdown",
   "metadata": {},
   "source": [
    "## Exercise 3"
   ]
  },
  {
   "cell_type": "markdown",
   "metadata": {},
   "source": [
    "> Modify any models from Problem 2 that contained that `children` variable and model the variable now as a monotonic ordered category, like education from the week we did ordered categories. Education in that example had 8 categories. Children here will have fewer (no one in the sample had 8 children). So modify the code appropriately. What do you conclude about the causal influence of each additional child on use of contraception?"
   ]
  },
  {
   "cell_type": "markdown",
   "metadata": {},
   "source": [
    "To build this model, you need the ordered categorical predictor machinery from the book example. The maximum observed number of kids in the sample is 4. So that means we need three parameters, for three transitions in number of kids. Remember for monotonic ordered variables we have to start the categories at zero. "
   ]
  },
  {
   "cell_type": "code",
   "execution_count": 20,
   "metadata": {},
   "outputs": [],
   "source": [
    "def model(did, urban, age, children, contra=None):\n",
    "    # fixed priors\n",
    "    a_bar = numpyro.sample('a_bar', dist.Normal(0, 1))\n",
    "    b_bar = numpyro.sample('b_bar', dist.Normal(0, 0.5))\n",
    "    sigma_ab = numpyro.sample('sigma_ab', dist.Exponential(1), sample_shape=(2,))\n",
    "    rho = numpyro.sample('rho', dist.LKJ(2,2))\n",
    "    bA = numpyro.sample('bA', dist.Normal(0,0.5))\n",
    "    bK = numpyro.sample('bK', dist.Normal(0,0.5))\n",
    "    children_coefs = numpyro.sample('children_coefs', dist.Dirichlet(np.ones(3)))\n",
    "    # adaptive priors\n",
    "    mu = jnp.stack([a_bar,b_bar])\n",
    "    cov = jnp.outer(sigma_ab, sigma_ab)*rho\n",
    "    i, j = len(d.did.unique()), len(d.urban.unique())\n",
    "    ab_did = numpyro.sample('ab_did', dist.MultivariateNormal(mu, cov).expand([i,j]))\n",
    "    # likelihood\n",
    "    delta_j = jnp.pad(children_coefs, (1, 0))\n",
    "    delta_K = jnp.sum(jnp.where(jnp.arange(4) <= children[..., None], delta_j, 0), -1)\n",
    "    a_did, b_did = ab_did[:,:,0], ab_did[:,:,1]\n",
    "    theta = a_did[did,urban] + b_did[did,urban]*urban + bA*age + bK*delta_K\n",
    "    contra_hat = numpyro.sample('contra_hat', dist.Bernoulli(logits=theta), obs=contra)"
   ]
  },
  {
   "cell_type": "code",
   "execution_count": 21,
   "metadata": {},
   "outputs": [
    {
     "name": "stderr",
     "output_type": "stream",
     "text": [
      "sample: 100%|██████████| 1000/1000 [00:22<00:00, 43.51it/s, 31 steps of size 1.52e-01. acc. prob=0.88] \n",
      "sample: 100%|██████████| 1000/1000 [00:06<00:00, 143.78it/s, 31 steps of size 1.23e-01. acc. prob=0.85]\n",
      "sample: 100%|██████████| 1000/1000 [00:06<00:00, 148.84it/s, 3 steps of size 1.37e-01. acc. prob=0.43] \n",
      "sample: 100%|██████████| 1000/1000 [00:09<00:00, 107.73it/s, 31 steps of size 1.27e-01. acc. prob=0.79]\n"
     ]
    }
   ],
   "source": [
    "kernel = NUTS(model)\n",
    "mcmc = MCMC(kernel, num_warmup=500, num_samples=500, num_chains=4, chain_method='sequential')\n",
    "dat = {k:v.to_numpy() for k,v in d[['did','urban','age', 'children', 'contra']].items()}\n",
    "mcmc.run(rng_key, **dat)"
   ]
  },
  {
   "cell_type": "code",
   "execution_count": 22,
   "metadata": {},
   "outputs": [
    {
     "data": {
      "text/html": [
       "<div>\n",
       "<style scoped>\n",
       "    .dataframe tbody tr th:only-of-type {\n",
       "        vertical-align: middle;\n",
       "    }\n",
       "\n",
       "    .dataframe tbody tr th {\n",
       "        vertical-align: top;\n",
       "    }\n",
       "\n",
       "    .dataframe thead th {\n",
       "        text-align: right;\n",
       "    }\n",
       "</style>\n",
       "<table border=\"1\" class=\"dataframe\">\n",
       "  <thead>\n",
       "    <tr style=\"text-align: right;\">\n",
       "      <th></th>\n",
       "      <th>mean</th>\n",
       "      <th>sd</th>\n",
       "      <th>hdi_5.5%</th>\n",
       "      <th>hdi_94.5%</th>\n",
       "      <th>mcse_mean</th>\n",
       "      <th>mcse_sd</th>\n",
       "      <th>ess_bulk</th>\n",
       "      <th>ess_tail</th>\n",
       "      <th>r_hat</th>\n",
       "    </tr>\n",
       "  </thead>\n",
       "  <tbody>\n",
       "    <tr>\n",
       "      <th>a_bar</th>\n",
       "      <td>-0.76</td>\n",
       "      <td>0.11</td>\n",
       "      <td>-0.95</td>\n",
       "      <td>-0.59</td>\n",
       "      <td>0.01</td>\n",
       "      <td>0.00</td>\n",
       "      <td>343.0</td>\n",
       "      <td>626.0</td>\n",
       "      <td>1.03</td>\n",
       "    </tr>\n",
       "    <tr>\n",
       "      <th>b_bar</th>\n",
       "      <td>0.65</td>\n",
       "      <td>0.17</td>\n",
       "      <td>0.38</td>\n",
       "      <td>0.91</td>\n",
       "      <td>0.01</td>\n",
       "      <td>0.01</td>\n",
       "      <td>190.0</td>\n",
       "      <td>341.0</td>\n",
       "      <td>1.07</td>\n",
       "    </tr>\n",
       "    <tr>\n",
       "      <th>bA</th>\n",
       "      <td>0.03</td>\n",
       "      <td>0.06</td>\n",
       "      <td>-0.07</td>\n",
       "      <td>0.12</td>\n",
       "      <td>0.00</td>\n",
       "      <td>0.00</td>\n",
       "      <td>1046.0</td>\n",
       "      <td>1352.0</td>\n",
       "      <td>1.03</td>\n",
       "    </tr>\n",
       "    <tr>\n",
       "      <th>bK</th>\n",
       "      <td>0.48</td>\n",
       "      <td>0.30</td>\n",
       "      <td>0.04</td>\n",
       "      <td>0.97</td>\n",
       "      <td>0.01</td>\n",
       "      <td>0.01</td>\n",
       "      <td>968.0</td>\n",
       "      <td>991.0</td>\n",
       "      <td>1.06</td>\n",
       "    </tr>\n",
       "    <tr>\n",
       "      <th>children_coefs[0]</th>\n",
       "      <td>0.44</td>\n",
       "      <td>0.21</td>\n",
       "      <td>0.10</td>\n",
       "      <td>0.80</td>\n",
       "      <td>0.02</td>\n",
       "      <td>0.01</td>\n",
       "      <td>244.0</td>\n",
       "      <td>694.0</td>\n",
       "      <td>1.02</td>\n",
       "    </tr>\n",
       "    <tr>\n",
       "      <th>children_coefs[1]</th>\n",
       "      <td>0.28</td>\n",
       "      <td>0.19</td>\n",
       "      <td>0.00</td>\n",
       "      <td>0.54</td>\n",
       "      <td>0.00</td>\n",
       "      <td>0.00</td>\n",
       "      <td>1474.0</td>\n",
       "      <td>1101.0</td>\n",
       "      <td>1.06</td>\n",
       "    </tr>\n",
       "    <tr>\n",
       "      <th>children_coefs[2]</th>\n",
       "      <td>0.27</td>\n",
       "      <td>0.20</td>\n",
       "      <td>0.00</td>\n",
       "      <td>0.57</td>\n",
       "      <td>0.02</td>\n",
       "      <td>0.01</td>\n",
       "      <td>190.0</td>\n",
       "      <td>1143.0</td>\n",
       "      <td>1.03</td>\n",
       "    </tr>\n",
       "  </tbody>\n",
       "</table>\n",
       "</div>"
      ],
      "text/plain": [
       "                   mean    sd  hdi_5.5%  hdi_94.5%  mcse_mean  mcse_sd  \\\n",
       "a_bar             -0.76  0.11     -0.95      -0.59       0.01     0.00   \n",
       "b_bar              0.65  0.17      0.38       0.91       0.01     0.01   \n",
       "bA                 0.03  0.06     -0.07       0.12       0.00     0.00   \n",
       "bK                 0.48  0.30      0.04       0.97       0.01     0.01   \n",
       "children_coefs[0]  0.44  0.21      0.10       0.80       0.02     0.01   \n",
       "children_coefs[1]  0.28  0.19      0.00       0.54       0.00     0.00   \n",
       "children_coefs[2]  0.27  0.20      0.00       0.57       0.02     0.01   \n",
       "\n",
       "                   ess_bulk  ess_tail  r_hat  \n",
       "a_bar                 343.0     626.0   1.03  \n",
       "b_bar                 190.0     341.0   1.07  \n",
       "bA                   1046.0    1352.0   1.03  \n",
       "bK                    968.0     991.0   1.06  \n",
       "children_coefs[0]     244.0     694.0   1.02  \n",
       "children_coefs[1]    1474.0    1101.0   1.06  \n",
       "children_coefs[2]     190.0    1143.0   1.03  "
      ]
     },
     "execution_count": 22,
     "metadata": {},
     "output_type": "execute_result"
    }
   ],
   "source": [
    "samples_31 = az.from_numpyro(mcmc)\n",
    "az.summary(samples_31, var_names=['a_bar','b_bar', 'bA', 'bK', 'children_coefs'], hdi_prob=.89).round(2)"
   ]
  },
  {
   "cell_type": "markdown",
   "metadata": {},
   "source": [
    "So the general effects are the same: `age` reduces use and kids increase it (_parameter `bA`_). `children_coefs[0]` is the transition from 1 to 2 kids. It is much larger than the other two parameters. So most of the influence of kids on contraception comes from having a second child."
   ]
  }
 ],
 "metadata": {
  "kernelspec": {
   "display_name": "Python 3",
   "language": "python",
   "name": "python3"
  },
  "language_info": {
   "codemirror_mode": {
    "name": "ipython",
    "version": 3
   },
   "file_extension": ".py",
   "mimetype": "text/x-python",
   "name": "python",
   "nbconvert_exporter": "python",
   "pygments_lexer": "ipython3",
   "version": "3.9.1"
  }
 },
 "nbformat": 4,
 "nbformat_minor": 4
}
